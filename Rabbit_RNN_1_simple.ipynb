{
  "nbformat": 4,
  "nbformat_minor": 0,
  "metadata": {
    "colab": {
      "name": "Rabbit_RNN_1_simple.ipynb",
      "provenance": [],
      "collapsed_sections": [],
      "include_colab_link": true
    },
    "kernelspec": {
      "display_name": "Python 3",
      "name": "python3"
    },
    "accelerator": "GPU"
  },
  "cells": [
    {
      "cell_type": "markdown",
      "metadata": {
        "id": "view-in-github",
        "colab_type": "text"
      },
      "source": [
        "<a href=\"https://colab.research.google.com/github/33quitykubby/Rabbit_DNN_3/blob/main/Rabbit_RNN_1_simple.ipynb\" target=\"_parent\"><img src=\"https://colab.research.google.com/assets/colab-badge.svg\" alt=\"Open In Colab\"/></a>"
      ]
    },
    {
      "cell_type": "markdown",
      "metadata": {
        "id": "ndo0gsKs29oE"
      },
      "source": [
        "# RNN\n",
        "\n",
        "サンプルコード3_1_simple_RNN_after.ipynb  \n",
        "写経  "
      ]
    },
    {
      "cell_type": "markdown",
      "metadata": {
        "id": "aFawz7zCioGw"
      },
      "source": [
        "# 日本時間にする"
      ]
    },
    {
      "cell_type": "code",
      "metadata": {
        "colab": {
          "base_uri": "https://localhost:8080/"
        },
        "id": "Qqk7xVQXilAv",
        "outputId": "0635346d-4e4c-4aa4-c436-5a9d93a36270"
      },
      "source": [
        "  !rm /etc/localtime\n",
        "  !ln -s /usr/share/zoneinfo/Asia/Tokyo /etc/localtime\n",
        "  !date"
      ],
      "execution_count": null,
      "outputs": [
        {
          "output_type": "stream",
          "text": [
            "Tue May  4 14:06:15 JST 2021\n"
          ],
          "name": "stdout"
        }
      ]
    },
    {
      "cell_type": "code",
      "metadata": {
        "id": "3EUDqQf0KYPQ"
      },
      "source": [
        ""
      ],
      "execution_count": null,
      "outputs": []
    },
    {
      "cell_type": "markdown",
      "metadata": {
        "id": "0XSgZcpT4tkC"
      },
      "source": [
        "# ライブラリのインポート"
      ]
    },
    {
      "cell_type": "code",
      "metadata": {
        "id": "9hlcGt_j4tkD"
      },
      "source": [
        "import pandas as pd\n",
        "import numpy as np\n",
        "\n",
        "from matplotlib import pyplot as plt\n",
        "%matplotlib inline\n",
        "\n",
        "import os\n",
        "import glob\n",
        "\n",
        "import librosa\n",
        "\n",
        "import datetime\n",
        "\n",
        "import gc\n",
        "\n",
        "from sklearn.datasets import load_boston\n",
        "from pandas import DataFrame"
      ],
      "execution_count": null,
      "outputs": []
    },
    {
      "cell_type": "code",
      "metadata": {
        "colab": {
          "base_uri": "https://localhost:8080/"
        },
        "id": "l3Kfi-5YVRYV",
        "outputId": "256f1cfe-394e-40b4-a6b1-038275154bc7"
      },
      "source": [
        "#開始時刻\n",
        "start_time = datetime.datetime.now(datetime.timezone(datetime.timedelta(hours=9)))\n",
        "print(\"start_time=\",start_time)"
      ],
      "execution_count": null,
      "outputs": [
        {
          "output_type": "stream",
          "text": [
            "start_time= 2021-05-04 14:06:18.898592+09:00\n"
          ],
          "name": "stdout"
        }
      ]
    },
    {
      "cell_type": "markdown",
      "metadata": {
        "id": "UdzrJm_XYr17"
      },
      "source": [
        "# 乱数シードの初期化\n",
        "\n",
        "\n",
        "\n",
        "\n"
      ]
    },
    {
      "cell_type": "code",
      "metadata": {
        "id": "wNUHyFvYF1_Z"
      },
      "source": [
        "import os \n",
        "import numpy as np\n",
        "from sklearn import model_selection\n",
        "import tensorflow as tf\n",
        "import random\n",
        "\n",
        "COMMON_SEED = 0\n",
        "STANDARD_SEED = 0\n",
        "NP_SEED = 0\n",
        "TF_SEED = 0 \n",
        "\n",
        "# np.random.seed(STANDARD_SEED)\n",
        "# random.seed(NP_SEED)\n",
        "# tf.random.set_seed(TF_SEED)\n",
        "\n",
        "def seed_everything():\n",
        "    random.seed(STANDARD_SEED)\n",
        "    os.environ['PYTHONHASHSEED'] = str(COMMON_SEED)\n",
        "    os.environ['TF_DETERMINISTIC_OPS'] = '1'\n",
        "    os.environ['TF_CUDNN_DETERMINISTIC'] = '1'\n",
        "    np.random.seed(NP_SEED)\n",
        "    tf.random.set_seed(TF_SEED)\n",
        "    session_conf = tf.compat.v1.ConfigProto(\n",
        "        intra_op_parallelism_threads=1,\n",
        "        inter_op_parallelism_threads=1\n",
        "    )\n",
        "    sess = tf.compat.v1.Session(graph=tf.compat.v1.get_default_graph(), config=session_conf)\n",
        "    tf.compat.v1.keras.backend.set_session(sess)\n"
      ],
      "execution_count": null,
      "outputs": []
    },
    {
      "cell_type": "code",
      "metadata": {
        "id": "9AOmh1f2uhww"
      },
      "source": [
        "#乱数シード固定\n",
        "\n",
        "seed_everything()"
      ],
      "execution_count": null,
      "outputs": []
    },
    {
      "cell_type": "markdown",
      "metadata": {
        "id": "kJCupj3PTDaz"
      },
      "source": [
        "# デバッグプリント"
      ]
    },
    {
      "cell_type": "code",
      "metadata": {
        "id": "Tjg6IOY1SvJZ"
      },
      "source": [
        "DEBUG = False\n",
        "\n",
        "def debugPrint(str, debug=True):\n",
        "  if debug :\n",
        "    print(str)"
      ],
      "execution_count": null,
      "outputs": []
    },
    {
      "cell_type": "markdown",
      "metadata": {
        "id": "SIWl1GBrzGJA"
      },
      "source": [
        "# concatenateのテスト(RNNとは直接関係なし）"
      ]
    },
    {
      "cell_type": "code",
      "metadata": {
        "colab": {
          "base_uri": "https://localhost:8080/"
        },
        "id": "ULl0XmZuw_m9",
        "outputId": "4a2e76a3-00a7-4ae7-ae22-de08fe67a626"
      },
      "source": [
        "\n",
        "a1 = np.ones((2, 3), int)\n",
        "# print(a1)\n",
        "# [[1 1 1]\n",
        "#  [1 1 1]]\n",
        "\n",
        "a2 = np.full((2, 3), 2)\n",
        "# print(a2)\n",
        "# [[2 2 2]\n",
        "#  [2 2 2]]\n",
        "\n",
        "print(np.concatenate([a1,a2],axis=0))\n",
        "print(np.concatenate([a1,a2],axis=1))"
      ],
      "execution_count": null,
      "outputs": [
        {
          "output_type": "stream",
          "text": [
            "[[1 1 1]\n",
            " [1 1 1]\n",
            " [2 2 2]\n",
            " [2 2 2]]\n",
            "[[1 1 1 2 2 2]\n",
            " [1 1 1 2 2 2]]\n"
          ],
          "name": "stdout"
        }
      ]
    },
    {
      "cell_type": "markdown",
      "metadata": {
        "id": "oXXh5d_gKCxM"
      },
      "source": [
        "# 共通クラス"
      ]
    },
    {
      "cell_type": "markdown",
      "metadata": {
        "id": "7e8hyPJMKVyM"
      },
      "source": [
        "# 共通関数"
      ]
    },
    {
      "cell_type": "markdown",
      "metadata": {
        "id": "pqMq2ic-M2JI"
      },
      "source": [
        "## sigmoid"
      ]
    },
    {
      "cell_type": "code",
      "metadata": {
        "id": "NlIxEAKXMyti"
      },
      "source": [
        "# sigmoid\n",
        "def func_sigmoid(u):\n",
        "  return 1/(1+np.exp(-u))\n",
        "\n",
        "# sigmoid 微分\n",
        "def func_d_sigmoid(y):\n",
        "  return (1-func_sigmoid(y))*func_sigmoid(y)"
      ],
      "execution_count": null,
      "outputs": []
    },
    {
      "cell_type": "markdown",
      "metadata": {
        "id": "O9PEuS50Nj6_"
      },
      "source": [
        "## tanh"
      ]
    },
    {
      "cell_type": "code",
      "metadata": {
        "id": "cswhmxEcNj7B"
      },
      "source": [
        "# tanh\n",
        "def func_tanh(u):\n",
        "  return np.tanh(u)\n",
        "\n",
        "# sigmoid 微分\n",
        "def func_d_tanh(y):\n",
        "  return 1/(np.cosh(x)**2)"
      ],
      "execution_count": null,
      "outputs": []
    },
    {
      "cell_type": "markdown",
      "metadata": {
        "id": "nIzKW7_WYhfh"
      },
      "source": [
        "## mean_squared_error\n"
      ]
    },
    {
      "cell_type": "code",
      "metadata": {
        "id": "C9c0jK9lYoGL"
      },
      "source": [
        "def func_MSE(d, y):\n",
        "  return np.mean(np.square(d - y)) / 2\n",
        "\n",
        "def func_d_MSE(d, y):\n",
        "  if type(d) == np.ndarray:\n",
        "    batch_size = d.shape[0]\n",
        "    dx = (y-d)/batch_size\n",
        "  else:\n",
        "    dx = (y-d)\n",
        "\n",
        "  return dx"
      ],
      "execution_count": null,
      "outputs": []
    },
    {
      "cell_type": "markdown",
      "metadata": {
        "id": "c2Ke8jDeO7v-"
      },
      "source": [
        "# RNN 処理"
      ]
    },
    {
      "cell_type": "markdown",
      "metadata": {
        "id": "XnJTqv3eP0yE"
      },
      "source": [
        "## 入力データ準備\n",
        "\n",
        "8桁の2進数を生成"
      ]
    },
    {
      "cell_type": "code",
      "metadata": {
        "colab": {
          "base_uri": "https://localhost:8080/"
        },
        "id": "Qw5I0da-O-5A",
        "outputId": "0d438155-8b1b-4b85-9da9-182d7cd758ea"
      },
      "source": [
        "#データ準備\n",
        "#2進数の桁数\n",
        "binary_dim = 8\n",
        "\n",
        "#最大値+1\n",
        "largest_number = pow(2, binary_dim)\n",
        "print(\"largest_number=\",largest_number)\n",
        "\n",
        "#largest_numberまでの2進数を容易\n",
        "binary = np.unpackbits(np.array([range(largest_number)],dtype=np.uint8).T,axis=1)\n",
        "print(\"binary=\",binary)\n",
        "print(\"binary.shape=\",binary.shape)\n"
      ],
      "execution_count": null,
      "outputs": [
        {
          "output_type": "stream",
          "text": [
            "largest_number= 256\n",
            "binary= [[0 0 0 ... 0 0 0]\n",
            " [0 0 0 ... 0 0 1]\n",
            " [0 0 0 ... 0 1 0]\n",
            " ...\n",
            " [1 1 1 ... 1 0 1]\n",
            " [1 1 1 ... 1 1 0]\n",
            " [1 1 1 ... 1 1 1]]\n",
            "binary.shape= (256, 8)\n"
          ],
          "name": "stdout"
        }
      ]
    },
    {
      "cell_type": "markdown",
      "metadata": {
        "id": "0SP7HEOMQnC3"
      },
      "source": [
        "## RNN初期値定義"
      ]
    },
    {
      "cell_type": "code",
      "metadata": {
        "id": "R6gm2vToQU-9"
      },
      "source": [
        "input_layer_size = 2\n",
        "hidden_layer_size = 16\n",
        "output_layer_size = 1\n",
        "\n",
        "weight_init_std = 1\n",
        "learning_rate = 0.1\n",
        "\n",
        "iters_num = 10000\n",
        "# iters_num = 1000 #動きを見るだけのため\n",
        "plot_interval = 100"
      ],
      "execution_count": null,
      "outputs": []
    },
    {
      "cell_type": "code",
      "metadata": {
        "id": "AIXVY09-Q1I8"
      },
      "source": [
        "#重み初期化（バイアスは簡単のために省略している)\n",
        "\n",
        "Win = weight_init_std * np.random.randn(input_layer_size, hidden_layer_size)\n",
        "Wout = weight_init_std * np.random.randn(hidden_layer_size, output_layer_size)\n",
        "W = weight_init_std * np.random.randn(hidden_layer_size, hidden_layer_size)\n"
      ],
      "execution_count": null,
      "outputs": []
    },
    {
      "cell_type": "code",
      "metadata": {
        "id": "AE4dkN5wRdqg"
      },
      "source": [
        "#勾配\n",
        "\n",
        "Win_grad = np.zeros_like(Win)\n",
        "Wout_grad = np.zeros_like(Wout)\n",
        "W_grad = np.zeros_like(W)\n",
        "\n",
        "u = np.zeros((hidden_layer_size, binary_dim + 1))\n",
        "z = np.zeros((hidden_layer_size, binary_dim + 1))\n",
        "y = np.zeros((output_layer_size, binary_dim))\n",
        "\n",
        "delta_out = np.zeros((output_layer_size, binary_dim))\n",
        "delta = np.zeros((hidden_layer_size, binary_dim + 1))\n",
        "\n",
        "all_losses = []"
      ],
      "execution_count": null,
      "outputs": []
    },
    {
      "cell_type": "markdown",
      "metadata": {
        "id": "1B4mLpNPSC0L"
      },
      "source": [
        "## RNN イテレーション"
      ]
    },
    {
      "cell_type": "code",
      "metadata": {
        "colab": {
          "base_uri": "https://localhost:8080/"
        },
        "id": "GSMXWDrySEjB",
        "outputId": "844b2d10-9b33-4a9f-f136-f22c49fdba0c"
      },
      "source": [
        "for i in range(iters_num):\n",
        "\n",
        "  # a + b = d\n",
        "  a_int = np.random.randint(largest_number/2)\n",
        "  a_bin = binary[a_int] # binary_encoding\n",
        "  b_int = np.random.randint(largest_number/2)\n",
        "  b_bin = binary[b_int] # binary_encoding\n",
        "\n",
        "  # 正解データ\n",
        "  d_int = a_int + b_int\n",
        "  d_bin = binary[d_int]\n",
        "\n",
        "  debugPrint(\"a:{}/{}\".format(a_bin,a_int),DEBUG)\n",
        "  debugPrint(\"b:{}/{}\".format(b_bin,b_int),DEBUG)\n",
        "  debugPrint(\"d:{}/{}\".format(d_bin,d_int),DEBUG)\n",
        "\n",
        "  # 出力バイナリ\n",
        "  out_bin = np.zeros_like(d_bin)\n",
        "\n",
        "  # 時系列全体の誤差\n",
        "  all_loss = 0\n",
        "\n",
        "  #時系列ループ\n",
        "  for t in range(binary_dim):\n",
        "    #入力値(入力データの一番下の桁から)\n",
        "    X = np.array([a_bin [-(t+1)], b_bin[-(t+1)]]).reshape(1,-1)\n",
        "    #時刻t+1における正解データ\n",
        "    dd = np.array([d_bin[binary_dim-(t+1)]])\n",
        "\n",
        "    print(\"X=\",X)\n",
        "    print(\"X.shape=\",X.shape)\n",
        "    print(\"dd=\",dd)\n",
        "    print(\"dd.shape=\",dd.shape)\n",
        "\n",
        "    debugPrint(\"X:{}\".format(X), DEBUG)\n",
        "    debugPrint(\"dd:{}\".format(dd), DEBUG)\n",
        "    \n",
        "    # u = X*Win + z(前の時刻(t)の中間層)*W\n",
        "    u[:, t+1] = np.dot(X, Win) + np.dot(z[:,t].reshape(1,-1), W)\n",
        "    # z = 現在時刻(t+1)の中間層出力\n",
        "    z[:, t+1] = func_sigmoid(u[:, t+1])\n",
        "    # y = 前の時刻(t)の出力\n",
        "    y[:, t] = func_sigmoid(np.dot(z[:, t+1].reshape(1,-1), Wout))\n",
        "    # print(\"z[:, t+1]=\",z[:, t+1])\n",
        "    # print(\"Wout=\",Wout)\n",
        "\n",
        "    #誤差\n",
        "    loss = func_MSE(dd, y[:,t])\n",
        "\n",
        "    #δout,t =(dE/dv)= (dE/dy)・(dy/dv)\n",
        "    # y = g(z) = sigmoid(z)\n",
        "    # v = Wout・z\n",
        "    delta_out[:, t] = func_d_MSE(dd, y[:,t]) * func_d_sigmoid(y[:,t])\n",
        "\n",
        "    all_loss += loss\n",
        "\n",
        "    # print(\"y[:,t]=\",y[:,t])\n",
        "\n",
        "    out_bin[binary_dim -(t+1)] = np.round(y[:,t])\n",
        "    # out_bin[binary_dim -(t+1)] = 0\n",
        "    # a = np.round(y[:,t])\n",
        "\n",
        "    # print(\"out_bin=\",out_bin)\n",
        "    # print(\"a=\",a)\n",
        "\n",
        "    #デバッグ出力\n",
        "    debugPrint(\"y:{}\".format(y), DEBUG)\n",
        "    debugPrint(\"out_bin:{}\".format(out_bin), DEBUG)\n",
        "    debugPrint(\"loss:{}, all_loss:{}\".format(loss, all_loss), DEBUG)\n",
        "\n",
        "  # BPTT\n",
        "  for t in range(binary_dim)[::-1]:\n",
        "    X = np.array([a_bin[-(t+1)], b_bin[-(t+1)]]).reshape(1, -1)\n",
        "\n",
        "    #δt = (dE/du_t = (dE/dv)・(dv/du_t) + (dE/du_t+1)・(du_t+1/du_t)\n",
        "    #dE/du_tを中間層由来の勾配と、前の時間方向由来の勾配で加算している（ようだ）\n",
        "    delta[:,t] = (np.dot(delta[:, t+1].T, W.T) + np.dot(delta_out[:,t].T, Wout.T)) * func_d_sigmoid(u[:,t+1])\n",
        "\n",
        "    #勾配更新\n",
        "    #dE/dWout = δt zt\n",
        "    Wout_grad += np.dot(z[:,t+1].reshape(-1,1), delta_out[:,t].reshape(-1,1))\n",
        "    # print(\"z=\",z[:,t+1])\n",
        "    # print(\"delta_out=\",delta_out[:,t])\n",
        "    # print(\"Wout_grad=\",Wout_grad)\n",
        "\n",
        "    #dE/dW = δt zt-1\n",
        "    W_grad += np.dot(z[:,t].reshape(-1,1), delta[:,t].reshape(1,-1))\n",
        "    #dE/dWin = δt Xt\n",
        "    Win_grad += np.dot(X.T, delta[:,t].reshape(1,-1))\n",
        "\n",
        "\n",
        "  #勾配適用\n",
        "  Win -= learning_rate*Win_grad\n",
        "  W -= learning_rate*W_grad\n",
        "  Wout -= learning_rate*Wout_grad\n",
        "\n",
        "  Win_grad *= 0\n",
        "  W_grad *= 0\n",
        "  Wout_grad *=0\n",
        "\n",
        "  if (i % plot_interval==0):\n",
        "    all_losses.append(all_loss)\n",
        "    print(\"iters:\"+str(i))\n",
        "    print(\"Losses:\"+str(all_loss))\n",
        "    print(\"Pred:\"+str(out_bin))\n",
        "    print(\"True:\"+str(d_bin))\n",
        "    out_int = 0\n",
        "\n",
        "    for index, x in enumerate(reversed(out_bin)):\n",
        "      out_int += x * pow(2, index)\n",
        "\n",
        "    print(str(a_int) + \" + \" + str(b_int) + \" = \" + str(out_int))\n",
        "    print(\"---------------------------------------\")\n"
      ],
      "execution_count": null,
      "outputs": [
        {
          "output_type": "stream",
          "text": [
            "iters:0\n",
            "Losses:1.707290143715457\n",
            "Pred:[0 0 0 0 0 0 0 0]\n",
            "True:[1 0 0 1 0 0 1 1]\n",
            "114 + 33 = 0\n",
            "---------------------------------------\n",
            "iters:100\n",
            "Losses:1.060738094110787\n",
            "Pred:[1 1 1 1 0 0 0 0]\n",
            "True:[1 0 0 1 1 0 1 0]\n",
            "32 + 122 = 240\n",
            "---------------------------------------\n",
            "iters:200\n",
            "Losses:0.9895922349883179\n",
            "Pred:[1 1 0 0 1 0 1 1]\n",
            "True:[0 1 1 0 1 0 1 0]\n",
            "35 + 71 = 203\n",
            "---------------------------------------\n",
            "iters:300\n",
            "Losses:1.1803873452700202\n",
            "Pred:[1 1 1 0 1 0 1 1]\n",
            "True:[0 1 0 1 0 1 0 0]\n",
            "29 + 55 = 235\n",
            "---------------------------------------\n",
            "iters:400\n",
            "Losses:1.0950966035330738\n",
            "Pred:[1 0 0 0 0 0 0 0]\n",
            "True:[1 0 1 1 0 1 0 1]\n",
            "94 + 87 = 128\n",
            "---------------------------------------\n",
            "iters:500\n",
            "Losses:0.8978626213091495\n",
            "Pred:[1 1 1 1 1 0 0 1]\n",
            "True:[0 0 0 1 1 0 0 0]\n",
            "9 + 15 = 249\n",
            "---------------------------------------\n",
            "iters:600\n",
            "Losses:0.8977699149626932\n",
            "Pred:[0 0 0 0 1 1 1 1]\n",
            "True:[0 0 0 0 1 1 1 0]\n",
            "9 + 5 = 15\n",
            "---------------------------------------\n",
            "iters:700\n",
            "Losses:1.0555132372595804\n",
            "Pred:[1 1 1 1 0 0 1 1]\n",
            "True:[1 1 0 1 0 1 0 0]\n",
            "123 + 89 = 243\n",
            "---------------------------------------\n",
            "iters:800\n",
            "Losses:1.2493472293844012\n",
            "Pred:[1 1 1 1 1 1 1 1]\n",
            "True:[0 1 1 0 0 1 0 1]\n",
            "25 + 76 = 255\n",
            "---------------------------------------\n",
            "iters:900\n",
            "Losses:1.1095574570812021\n",
            "Pred:[0 1 1 1 1 1 0 0]\n",
            "True:[0 1 0 0 0 0 0 0]\n",
            "36 + 28 = 124\n",
            "---------------------------------------\n",
            "iters:1000\n",
            "Losses:0.9881373389878267\n",
            "Pred:[1 0 1 1 1 0 0 0]\n",
            "True:[1 0 0 0 1 1 0 0]\n",
            "29 + 111 = 184\n",
            "---------------------------------------\n",
            "iters:1100\n",
            "Losses:0.9193817862983151\n",
            "Pred:[1 1 1 1 1 0 0 1]\n",
            "True:[1 0 1 0 1 0 1 1]\n",
            "56 + 115 = 249\n",
            "---------------------------------------\n",
            "iters:1200\n",
            "Losses:1.326310405421317\n",
            "Pred:[1 1 1 1 1 1 1 0]\n",
            "True:[1 0 1 0 0 0 0 0]\n",
            "101 + 59 = 254\n",
            "---------------------------------------\n",
            "iters:1300\n",
            "Losses:0.9881076206116023\n",
            "Pred:[1 1 0 1 1 1 1 1]\n",
            "True:[1 1 1 0 0 0 1 1]\n",
            "126 + 101 = 223\n",
            "---------------------------------------\n",
            "iters:1400\n",
            "Losses:0.9517013969729178\n",
            "Pred:[0 0 1 0 0 1 0 0]\n",
            "True:[1 0 0 0 1 0 0 0]\n",
            "54 + 82 = 36\n",
            "---------------------------------------\n",
            "iters:1500\n",
            "Losses:1.0403213359384724\n",
            "Pred:[0 0 0 1 1 0 0 1]\n",
            "True:[0 1 0 1 0 1 1 1]\n",
            "16 + 71 = 25\n",
            "---------------------------------------\n",
            "iters:1600\n",
            "Losses:1.0799825318505087\n",
            "Pred:[1 0 1 1 1 0 1 1]\n",
            "True:[1 1 0 0 0 0 1 1]\n",
            "118 + 77 = 187\n",
            "---------------------------------------\n",
            "iters:1700\n",
            "Losses:0.6684504551668222\n",
            "Pred:[0 0 0 0 0 0 0 0]\n",
            "True:[0 1 0 0 1 1 0 0]\n",
            "12 + 64 = 0\n",
            "---------------------------------------\n",
            "iters:1800\n",
            "Losses:0.7327385861267903\n",
            "Pred:[0 1 0 1 1 0 0 0]\n",
            "True:[0 1 1 1 1 0 1 0]\n",
            "83 + 39 = 88\n",
            "---------------------------------------\n",
            "iters:1900\n",
            "Losses:0.7100703308867574\n",
            "Pred:[1 1 0 1 1 0 0 1]\n",
            "True:[1 1 0 1 0 0 0 1]\n",
            "98 + 111 = 217\n",
            "---------------------------------------\n",
            "iters:2000\n",
            "Losses:0.5643249470743199\n",
            "Pred:[1 0 0 1 1 0 1 1]\n",
            "True:[1 0 0 1 1 0 1 1]\n",
            "50 + 105 = 155\n",
            "---------------------------------------\n",
            "iters:2100\n",
            "Losses:0.5639001366988352\n",
            "Pred:[0 1 0 0 1 0 1 1]\n",
            "True:[0 1 0 0 1 0 1 1]\n",
            "0 + 75 = 75\n",
            "---------------------------------------\n",
            "iters:2200\n",
            "Losses:0.7667194791494157\n",
            "Pred:[0 0 1 0 1 0 0 1]\n",
            "True:[0 0 1 0 1 1 1 1]\n",
            "8 + 39 = 41\n",
            "---------------------------------------\n",
            "iters:2300\n",
            "Losses:0.6598748391637124\n",
            "Pred:[0 1 1 1 1 0 1 1]\n",
            "True:[0 1 0 1 1 0 1 1]\n",
            "62 + 29 = 123\n",
            "---------------------------------------\n",
            "iters:2400\n",
            "Losses:0.7450140562236385\n",
            "Pred:[0 0 1 0 0 0 0 0]\n",
            "True:[0 1 0 0 0 0 0 0]\n",
            "40 + 24 = 32\n",
            "---------------------------------------\n",
            "iters:2500\n",
            "Losses:0.36248838426268454\n",
            "Pred:[0 0 0 1 1 1 1 0]\n",
            "True:[0 0 0 1 1 1 1 0]\n",
            "7 + 23 = 30\n",
            "---------------------------------------\n",
            "iters:2600\n",
            "Losses:0.9469456637013689\n",
            "Pred:[0 1 0 0 1 0 1 1]\n",
            "True:[0 1 1 0 0 0 0 1]\n",
            "45 + 52 = 75\n",
            "---------------------------------------\n",
            "iters:2700\n",
            "Losses:0.4612927834826239\n",
            "Pred:[1 0 0 0 0 0 0 0]\n",
            "True:[1 0 0 0 0 1 0 0]\n",
            "6 + 126 = 128\n",
            "---------------------------------------\n",
            "iters:2800\n",
            "Losses:0.4865434196818608\n",
            "Pred:[0 1 0 0 0 1 0 1]\n",
            "True:[0 1 0 0 0 1 1 1]\n",
            "13 + 58 = 69\n",
            "---------------------------------------\n",
            "iters:2900\n",
            "Losses:0.17303489045486684\n",
            "Pred:[0 0 1 1 0 1 0 0]\n",
            "True:[0 0 1 1 0 1 0 0]\n",
            "18 + 34 = 52\n",
            "---------------------------------------\n",
            "iters:3000\n",
            "Losses:0.3111832110896146\n",
            "Pred:[0 1 1 1 1 1 0 0]\n",
            "True:[0 1 1 1 1 1 0 0]\n",
            "38 + 86 = 124\n",
            "---------------------------------------\n",
            "iters:3100\n",
            "Losses:0.25236413624306997\n",
            "Pred:[1 1 1 0 1 0 0 0]\n",
            "True:[1 1 1 0 1 0 0 0]\n",
            "114 + 118 = 232\n",
            "---------------------------------------\n",
            "iters:3200\n",
            "Losses:0.6784264694683986\n",
            "Pred:[1 0 1 1 1 0 0 1]\n",
            "True:[1 0 1 0 1 1 1 1]\n",
            "105 + 70 = 185\n",
            "---------------------------------------\n",
            "iters:3300\n",
            "Losses:0.38155602813302\n",
            "Pred:[1 1 0 0 1 1 1 0]\n",
            "True:[1 1 0 0 1 1 1 0]\n",
            "79 + 127 = 206\n",
            "---------------------------------------\n",
            "iters:3400\n",
            "Losses:0.17289310852782394\n",
            "Pred:[0 1 1 1 0 1 1 0]\n",
            "True:[0 1 1 1 0 1 1 0]\n",
            "61 + 57 = 118\n",
            "---------------------------------------\n",
            "iters:3500\n",
            "Losses:0.22704962212269034\n",
            "Pred:[0 1 1 0 1 1 1 1]\n",
            "True:[0 1 1 0 1 1 0 1]\n",
            "9 + 100 = 111\n",
            "---------------------------------------\n",
            "iters:3600\n",
            "Losses:0.23242624468195183\n",
            "Pred:[1 1 0 1 0 1 1 0]\n",
            "True:[1 1 0 1 0 1 1 0]\n",
            "89 + 125 = 214\n",
            "---------------------------------------\n",
            "iters:3700\n",
            "Losses:0.5334150849094413\n",
            "Pred:[1 0 1 0 1 1 0 0]\n",
            "True:[1 0 1 1 0 0 0 0]\n",
            "111 + 65 = 172\n",
            "---------------------------------------\n",
            "iters:3800\n",
            "Losses:0.05870140511756815\n",
            "Pred:[1 0 1 1 0 0 1 0]\n",
            "True:[1 0 1 1 0 0 1 0]\n",
            "68 + 110 = 178\n",
            "---------------------------------------\n",
            "iters:3900\n",
            "Losses:0.23380152702374343\n",
            "Pred:[0 0 1 1 0 0 0 1]\n",
            "True:[0 0 1 1 0 0 0 1]\n",
            "22 + 27 = 49\n",
            "---------------------------------------\n",
            "iters:4000\n",
            "Losses:0.21483161086605204\n",
            "Pred:[1 1 0 1 1 1 0 0]\n",
            "True:[1 0 0 1 1 1 0 0]\n",
            "121 + 35 = 220\n",
            "---------------------------------------\n",
            "iters:4100\n",
            "Losses:0.1990299799783953\n",
            "Pred:[1 0 0 0 0 0 1 1]\n",
            "True:[1 0 0 0 0 0 1 1]\n",
            "26 + 105 = 131\n",
            "---------------------------------------\n",
            "iters:4200\n",
            "Losses:0.15034613592100832\n",
            "Pred:[1 0 1 0 0 0 1 0]\n",
            "True:[1 0 1 0 0 0 1 0]\n",
            "92 + 70 = 162\n",
            "---------------------------------------\n",
            "iters:4300\n",
            "Losses:0.06311569537175164\n",
            "Pred:[1 1 0 1 1 1 0 1]\n",
            "True:[1 1 0 1 1 1 0 1]\n",
            "120 + 101 = 221\n",
            "---------------------------------------\n",
            "iters:4400\n",
            "Losses:0.16763110858172267\n",
            "Pred:[1 0 0 1 1 1 0 0]\n",
            "True:[1 0 0 1 1 0 0 0]\n",
            "85 + 67 = 156\n",
            "---------------------------------------\n",
            "iters:4500\n",
            "Losses:0.28056834493014515\n",
            "Pred:[1 0 0 0 0 1 1 1]\n",
            "True:[1 0 0 0 0 1 1 1]\n",
            "126 + 9 = 135\n",
            "---------------------------------------\n",
            "iters:4600\n",
            "Losses:0.13564618204086362\n",
            "Pred:[0 1 1 0 0 0 1 1]\n",
            "True:[0 1 1 0 0 0 1 1]\n",
            "23 + 76 = 99\n",
            "---------------------------------------\n",
            "iters:4700\n",
            "Losses:0.03384061076531421\n",
            "Pred:[0 1 1 1 0 1 1 0]\n",
            "True:[0 1 1 1 0 1 1 0]\n",
            "25 + 93 = 118\n",
            "---------------------------------------\n",
            "iters:4800\n",
            "Losses:0.021587450166081837\n",
            "Pred:[0 1 1 1 1 0 1 0]\n",
            "True:[0 1 1 1 1 0 1 0]\n",
            "2 + 120 = 122\n",
            "---------------------------------------\n",
            "iters:4900\n",
            "Losses:0.010500652277448709\n",
            "Pred:[0 0 0 1 1 0 0 1]\n",
            "True:[0 0 0 1 1 0 0 1]\n",
            "8 + 17 = 25\n",
            "---------------------------------------\n",
            "iters:5000\n",
            "Losses:0.11810604740210288\n",
            "Pred:[1 0 0 1 1 0 0 0]\n",
            "True:[1 0 0 1 1 0 0 0]\n",
            "71 + 81 = 152\n",
            "---------------------------------------\n",
            "iters:5100\n",
            "Losses:0.022485040290248715\n",
            "Pred:[0 1 1 0 1 0 1 1]\n",
            "True:[0 1 1 0 1 0 1 1]\n",
            "71 + 36 = 107\n",
            "---------------------------------------\n",
            "iters:5200\n",
            "Losses:0.0867503470112707\n",
            "Pred:[1 0 0 1 1 1 0 1]\n",
            "True:[1 0 0 1 1 1 0 1]\n",
            "127 + 30 = 157\n",
            "---------------------------------------\n",
            "iters:5300\n",
            "Losses:0.03154550245480353\n",
            "Pred:[1 0 1 0 1 0 1 0]\n",
            "True:[1 0 1 0 1 0 1 0]\n",
            "47 + 123 = 170\n",
            "---------------------------------------\n",
            "iters:5400\n",
            "Losses:0.024909185535842912\n",
            "Pred:[0 1 1 0 0 0 0 1]\n",
            "True:[0 1 1 0 0 0 0 1]\n",
            "10 + 87 = 97\n",
            "---------------------------------------\n",
            "iters:5500\n",
            "Losses:0.03128703478555425\n",
            "Pred:[1 1 0 0 0 0 1 1]\n",
            "True:[1 1 0 0 0 0 1 1]\n",
            "88 + 107 = 195\n",
            "---------------------------------------\n",
            "iters:5600\n",
            "Losses:0.02919664890693719\n",
            "Pred:[0 1 1 0 0 1 0 0]\n",
            "True:[0 1 1 0 0 1 0 0]\n",
            "43 + 57 = 100\n",
            "---------------------------------------\n",
            "iters:5700\n",
            "Losses:0.014942122784306991\n",
            "Pred:[0 0 1 1 1 0 0 0]\n",
            "True:[0 0 1 1 1 0 0 0]\n",
            "51 + 5 = 56\n",
            "---------------------------------------\n",
            "iters:5800\n",
            "Losses:0.018076703002805873\n",
            "Pred:[1 0 0 0 1 1 1 0]\n",
            "True:[1 0 0 0 1 1 1 0]\n",
            "103 + 39 = 142\n",
            "---------------------------------------\n",
            "iters:5900\n",
            "Losses:0.02251642092997442\n",
            "Pred:[1 0 1 0 0 0 0 0]\n",
            "True:[1 0 1 0 0 0 0 0]\n",
            "51 + 109 = 160\n",
            "---------------------------------------\n",
            "iters:6000\n",
            "Losses:0.023859237120863307\n",
            "Pred:[1 1 0 0 0 1 1 1]\n",
            "True:[1 1 0 0 0 1 1 1]\n",
            "91 + 108 = 199\n",
            "---------------------------------------\n",
            "iters:6100\n",
            "Losses:0.011803168039390403\n",
            "Pred:[0 1 1 0 1 1 0 0]\n",
            "True:[0 1 1 0 1 1 0 0]\n",
            "68 + 40 = 108\n",
            "---------------------------------------\n",
            "iters:6200\n",
            "Losses:0.004586437384789273\n",
            "Pred:[0 0 1 1 0 1 1 0]\n",
            "True:[0 0 1 1 0 1 1 0]\n",
            "25 + 29 = 54\n",
            "---------------------------------------\n",
            "iters:6300\n",
            "Losses:0.012997572381594035\n",
            "Pred:[1 0 0 0 0 1 1 1]\n",
            "True:[1 0 0 0 0 1 1 1]\n",
            "112 + 23 = 135\n",
            "---------------------------------------\n",
            "iters:6400\n",
            "Losses:0.012221056690492156\n",
            "Pred:[1 0 1 1 0 1 0 0]\n",
            "True:[1 0 1 1 0 1 0 0]\n",
            "76 + 104 = 180\n",
            "---------------------------------------\n",
            "iters:6500\n",
            "Losses:0.015622574828303034\n",
            "Pred:[1 0 0 0 0 1 1 1]\n",
            "True:[1 0 0 0 0 1 1 1]\n",
            "87 + 48 = 135\n",
            "---------------------------------------\n",
            "iters:6600\n",
            "Losses:0.0018901310496388882\n",
            "Pred:[0 1 1 0 0 1 0 0]\n",
            "True:[0 1 1 0 0 1 0 0]\n",
            "73 + 27 = 100\n",
            "---------------------------------------\n",
            "iters:6700\n",
            "Losses:0.009333832185131216\n",
            "Pred:[1 0 1 0 0 0 1 1]\n",
            "True:[1 0 1 0 0 0 1 1]\n",
            "94 + 69 = 163\n",
            "---------------------------------------\n",
            "iters:6800\n",
            "Losses:0.003906180893648057\n",
            "Pred:[1 0 1 1 1 1 1 0]\n",
            "True:[1 0 1 1 1 1 1 0]\n",
            "79 + 111 = 190\n",
            "---------------------------------------\n",
            "iters:6900\n",
            "Losses:0.007220129786776308\n",
            "Pred:[1 0 1 0 1 0 1 1]\n",
            "True:[1 0 1 0 1 0 1 1]\n",
            "106 + 65 = 171\n",
            "---------------------------------------\n",
            "iters:7000\n",
            "Losses:0.0030958693707486148\n",
            "Pred:[0 0 1 0 0 1 0 1]\n",
            "True:[0 0 1 0 0 1 0 1]\n",
            "13 + 24 = 37\n",
            "---------------------------------------\n",
            "iters:7100\n",
            "Losses:0.0031368797764500353\n",
            "Pred:[1 0 1 0 1 1 0 1]\n",
            "True:[1 0 1 0 1 1 0 1]\n",
            "68 + 105 = 173\n",
            "---------------------------------------\n",
            "iters:7200\n",
            "Losses:0.010906233921588116\n",
            "Pred:[0 1 1 0 0 0 0 1]\n",
            "True:[0 1 1 0 0 0 0 1]\n",
            "94 + 3 = 97\n",
            "---------------------------------------\n",
            "iters:7300\n",
            "Losses:0.014204591822884608\n",
            "Pred:[1 0 0 0 1 0 0 0]\n",
            "True:[1 0 0 0 1 0 0 0]\n",
            "47 + 89 = 136\n",
            "---------------------------------------\n",
            "iters:7400\n",
            "Losses:0.008347127199501715\n",
            "Pred:[1 1 0 1 0 0 1 0]\n",
            "True:[1 1 0 1 0 0 1 0]\n",
            "106 + 104 = 210\n",
            "---------------------------------------\n",
            "iters:7500\n",
            "Losses:0.006463013545352231\n",
            "Pred:[0 0 1 0 1 1 1 0]\n",
            "True:[0 0 1 0 1 1 1 0]\n",
            "0 + 46 = 46\n",
            "---------------------------------------\n",
            "iters:7600\n",
            "Losses:0.006086633767248353\n",
            "Pred:[1 0 0 1 1 1 1 0]\n",
            "True:[1 0 0 1 1 1 1 0]\n",
            "74 + 84 = 158\n",
            "---------------------------------------\n",
            "iters:7700\n",
            "Losses:0.009952177543089724\n",
            "Pred:[1 1 0 0 0 0 0 0]\n",
            "True:[1 1 0 0 0 0 0 0]\n",
            "93 + 99 = 192\n",
            "---------------------------------------\n",
            "iters:7800\n",
            "Losses:0.005000050500846169\n",
            "Pred:[1 0 0 0 0 1 0 0]\n",
            "True:[1 0 0 0 0 1 0 0]\n",
            "83 + 49 = 132\n",
            "---------------------------------------\n",
            "iters:7900\n",
            "Losses:0.006769036504134604\n",
            "Pred:[1 0 0 0 1 0 1 1]\n",
            "True:[1 0 0 0 1 0 1 1]\n",
            "102 + 37 = 139\n",
            "---------------------------------------\n",
            "iters:8000\n",
            "Losses:0.0036642475615400716\n",
            "Pred:[0 1 0 0 1 1 1 1]\n",
            "True:[0 1 0 0 1 1 1 1]\n",
            "47 + 32 = 79\n",
            "---------------------------------------\n",
            "iters:8100\n",
            "Losses:0.0019526426315987979\n",
            "Pred:[0 1 1 1 0 0 1 0]\n",
            "True:[0 1 1 1 0 0 1 0]\n",
            "39 + 75 = 114\n",
            "---------------------------------------\n",
            "iters:8200\n",
            "Losses:0.005248066762627508\n",
            "Pred:[0 1 0 1 0 0 0 0]\n",
            "True:[0 1 0 1 0 0 0 0]\n",
            "72 + 8 = 80\n",
            "---------------------------------------\n",
            "iters:8300\n",
            "Losses:0.0024724073785905233\n",
            "Pred:[0 1 1 1 0 1 0 1]\n",
            "True:[0 1 1 1 0 1 0 1]\n",
            "36 + 81 = 117\n",
            "---------------------------------------\n",
            "iters:8400\n",
            "Losses:0.0016527838279839636\n",
            "Pred:[1 1 0 0 1 1 0 0]\n",
            "True:[1 1 0 0 1 1 0 0]\n",
            "117 + 87 = 204\n",
            "---------------------------------------\n",
            "iters:8500\n",
            "Losses:0.0017928999515504109\n",
            "Pred:[1 0 1 0 0 1 1 0]\n",
            "True:[1 0 1 0 0 1 1 0]\n",
            "47 + 119 = 166\n",
            "---------------------------------------\n",
            "iters:8600\n",
            "Losses:0.005818374356555952\n",
            "Pred:[0 1 0 0 0 0 1 0]\n",
            "True:[0 1 0 0 0 0 1 0]\n",
            "6 + 60 = 66\n",
            "---------------------------------------\n",
            "iters:8700\n",
            "Losses:0.0010868966366949365\n",
            "Pred:[1 0 0 1 1 1 1 0]\n",
            "True:[1 0 0 1 1 1 1 0]\n",
            "109 + 49 = 158\n",
            "---------------------------------------\n",
            "iters:8800\n",
            "Losses:0.0018507746993968355\n",
            "Pred:[0 1 0 0 0 0 0 1]\n",
            "True:[0 1 0 0 0 0 0 1]\n",
            "32 + 33 = 65\n",
            "---------------------------------------\n",
            "iters:8900\n",
            "Losses:0.0037587917113469102\n",
            "Pred:[0 0 1 1 0 1 0 0]\n",
            "True:[0 0 1 1 0 1 0 0]\n",
            "2 + 50 = 52\n",
            "---------------------------------------\n",
            "iters:9000\n",
            "Losses:0.00475704941152523\n",
            "Pred:[0 0 0 1 1 0 0 0]\n",
            "True:[0 0 0 1 1 0 0 0]\n",
            "12 + 12 = 24\n",
            "---------------------------------------\n",
            "iters:9100\n",
            "Losses:0.0015585240363073178\n",
            "Pred:[1 0 0 1 1 0 0 1]\n",
            "True:[1 0 0 1 1 0 0 1]\n",
            "81 + 72 = 153\n",
            "---------------------------------------\n",
            "iters:9200\n",
            "Losses:0.0038811864267783436\n",
            "Pred:[1 0 0 1 0 1 1 0]\n",
            "True:[1 0 0 1 0 1 1 0]\n",
            "76 + 74 = 150\n",
            "---------------------------------------\n",
            "iters:9300\n",
            "Losses:0.0017272412294955584\n",
            "Pred:[0 1 1 1 1 0 0 0]\n",
            "True:[0 1 1 1 1 0 0 0]\n",
            "7 + 113 = 120\n",
            "---------------------------------------\n",
            "iters:9400\n",
            "Losses:0.001373913494399491\n",
            "Pred:[1 0 0 1 0 0 0 1]\n",
            "True:[1 0 0 1 0 0 0 1]\n",
            "39 + 106 = 145\n",
            "---------------------------------------\n",
            "iters:9500\n",
            "Losses:0.0008719704904651608\n",
            "Pred:[0 0 1 1 1 0 1 0]\n",
            "True:[0 0 1 1 1 0 1 0]\n",
            "23 + 35 = 58\n",
            "---------------------------------------\n",
            "iters:9600\n",
            "Losses:0.003295317900079471\n",
            "Pred:[1 0 1 0 1 0 0 0]\n",
            "True:[1 0 1 0 1 0 0 0]\n",
            "76 + 92 = 168\n",
            "---------------------------------------\n",
            "iters:9700\n",
            "Losses:0.001734389019146042\n",
            "Pred:[1 0 0 1 1 0 1 1]\n",
            "True:[1 0 0 1 1 0 1 1]\n",
            "115 + 40 = 155\n",
            "---------------------------------------\n",
            "iters:9800\n",
            "Losses:0.0018376128323502466\n",
            "Pred:[1 0 1 1 1 1 0 1]\n",
            "True:[1 0 1 1 1 1 0 1]\n",
            "110 + 79 = 189\n",
            "---------------------------------------\n",
            "iters:9900\n",
            "Losses:0.002992014427310139\n",
            "Pred:[1 0 0 1 0 0 0 0]\n",
            "True:[1 0 0 1 0 0 0 0]\n",
            "38 + 106 = 144\n",
            "---------------------------------------\n"
          ],
          "name": "stdout"
        }
      ]
    },
    {
      "cell_type": "markdown",
      "metadata": {
        "id": "x85n3tbEHIJx"
      },
      "source": [
        "\n",
        "# `グラフ表示`"
      ]
    },
    {
      "cell_type": "code",
      "metadata": {
        "colab": {
          "base_uri": "https://localhost:8080/"
        },
        "id": "_5GPEJnN_Ov5",
        "outputId": "88afa06a-7afa-4f46-9b46-e8f2b2bf1f3d"
      },
      "source": [
        "print(all_losses)"
      ],
      "execution_count": null,
      "outputs": [
        {
          "output_type": "stream",
          "text": [
            "[1.707290143715457, 1.060738094110787, 0.9895922349883179, 1.1803873452700202, 1.0950966035330738, 0.8978626213091495, 0.8977699149626932, 1.0555132372595804, 1.2493472293844012, 1.1095574570812021, 0.9881373389878267, 0.9193817862983151, 1.326310405421317, 0.9881076206116023, 0.9517013969729178, 1.0403213359384724, 1.0799825318505087, 0.6684504551668222, 0.7327385861267903, 0.7100703308867574, 0.5643249470743199, 0.5639001366988352, 0.7667194791494157, 0.6598748391637124, 0.7450140562236385, 0.36248838426268454, 0.9469456637013689, 0.4612927834826239, 0.4865434196818608, 0.17303489045486684, 0.3111832110896146, 0.25236413624306997, 0.6784264694683986, 0.38155602813302, 0.17289310852782394, 0.22704962212269034, 0.23242624468195183, 0.5334150849094413, 0.05870140511756815, 0.23380152702374343, 0.21483161086605204, 0.1990299799783953, 0.15034613592100832, 0.06311569537175164, 0.16763110858172267, 0.28056834493014515, 0.13564618204086362, 0.03384061076531421, 0.021587450166081837, 0.010500652277448709, 0.11810604740210288, 0.022485040290248715, 0.0867503470112707, 0.03154550245480353, 0.024909185535842912, 0.03128703478555425, 0.02919664890693719, 0.014942122784306991, 0.018076703002805873, 0.02251642092997442, 0.023859237120863307, 0.011803168039390403, 0.004586437384789273, 0.012997572381594035, 0.012221056690492156, 0.015622574828303034, 0.0018901310496388882, 0.009333832185131216, 0.003906180893648057, 0.007220129786776308, 0.0030958693707486148, 0.0031368797764500353, 0.010906233921588116, 0.014204591822884608, 0.008347127199501715, 0.006463013545352231, 0.006086633767248353, 0.009952177543089724, 0.005000050500846169, 0.006769036504134604, 0.0036642475615400716, 0.0019526426315987979, 0.005248066762627508, 0.0024724073785905233, 0.0016527838279839636, 0.0017928999515504109, 0.005818374356555952, 0.0010868966366949365, 0.0018507746993968355, 0.0037587917113469102, 0.00475704941152523, 0.0015585240363073178, 0.0038811864267783436, 0.0017272412294955584, 0.001373913494399491, 0.0008719704904651608, 0.003295317900079471, 0.001734389019146042, 0.0018376128323502466, 0.002992014427310139]\n"
          ],
          "name": "stdout"
        }
      ]
    },
    {
      "cell_type": "code",
      "metadata": {
        "id": "CyhXc8FJueE0",
        "colab": {
          "base_uri": "https://localhost:8080/",
          "height": 265
        },
        "outputId": "2b6f8bf8-9a99-41d7-f08b-0dc000fd254c"
      },
      "source": [
        "\n",
        "lists = range(0, iters_num, plot_interval)\n",
        "plt.plot(lists, all_losses, label=\"loss\")\n",
        "# グラフの表示\n",
        "plt.show()"
      ],
      "execution_count": null,
      "outputs": [
        {
          "output_type": "display_data",
          "data": {
            "image/png": "[encoded data removed]",
            "text/plain": [
              "<Figure size 432x288 with 1 Axes>"
            ]
          },
          "metadata": {
            "tags": [],
            "needs_background": "light"
          }
        }
      ]
    },
    {
      "cell_type": "markdown",
      "metadata": {
        "id": "v8AH400idpTk"
      },
      "source": [
        "# 終わり"
      ]
    },
    {
      "cell_type": "code",
      "metadata": {
        "id": "bdBIu4za5umf",
        "colab": {
          "base_uri": "https://localhost:8080/"
        },
        "outputId": "d7e291e8-fef7-4a68-a7b8-b44054865964"
      },
      "source": [
        "#終了時刻\n",
        "finish_time = datetime.datetime.now(datetime.timezone(datetime.timedelta(hours=9)))\n",
        "print(\"finish_time=\",finish_time)\n",
        "print(\"total_time=\",finish_time-start_time)\n"
      ],
      "execution_count": null,
      "outputs": [
        {
          "output_type": "stream",
          "text": [
            "finish_time= 2021-05-04 10:31:48.803293+09:00\n",
            "total_time= 0:00:36.787577\n"
          ],
          "name": "stdout"
        }
      ]
    }
  ]
}