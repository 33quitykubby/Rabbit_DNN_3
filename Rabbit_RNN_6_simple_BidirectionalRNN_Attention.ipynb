{
  "nbformat": 4,
  "nbformat_minor": 0,
  "metadata": {
    "colab": {
      "name": "Rabbit_RNN_6_simple_BidirectionalRNN_Attention.ipynb",
      "provenance": [],
      "collapsed_sections": [],
      "toc_visible": true,
      "include_colab_link": true
    },
    "kernelspec": {
      "display_name": "Python 3",
      "name": "python3"
    }
  },
  "cells": [
    {
      "cell_type": "markdown",
      "metadata": {
        "id": "view-in-github",
        "colab_type": "text"
      },
      "source": [
        "<a href=\"https://colab.research.google.com/github/33quitykubby/Rabbit_DNN_3/blob/main/Rabbit_RNN_6_simple_BidirectionalRNN_Attention.ipynb\" target=\"_parent\"><img src=\"https://colab.research.google.com/assets/colab-badge.svg\" alt=\"Open In Colab\"/></a>"
      ]
    },
    {
      "cell_type": "markdown",
      "metadata": {
        "id": "ndo0gsKs29oE"
      },
      "source": [
        "# BidirectionalRNN+SelfAttention\n",
        "\n",
        "サンプルコード3_1_simple_RNN_after.ipynb  \n",
        "上記同様に8bit演算の推測を行う  \n",
        "kerasで実装する\n",
        "\n",
        "https://pypi.org/project/keras-self-attention/"
      ]
    },
    {
      "cell_type": "markdown",
      "metadata": {
        "id": "aFawz7zCioGw"
      },
      "source": [
        "# 日本時間にする"
      ]
    },
    {
      "cell_type": "code",
      "metadata": {
        "colab": {
          "base_uri": "https://localhost:8080/"
        },
        "id": "Qqk7xVQXilAv",
        "outputId": "d78600ad-b4c9-4f16-b36f-b1de8939abcc"
      },
      "source": [
        "  !rm /etc/localtime\n",
        "  !ln -s /usr/share/zoneinfo/Asia/Tokyo /etc/localtime\n",
        "  !date"
      ],
      "execution_count": null,
      "outputs": [
        {
          "output_type": "stream",
          "text": [
            "Fri May  7 12:27:34 JST 2021\n"
          ],
          "name": "stdout"
        }
      ]
    },
    {
      "cell_type": "markdown",
      "metadata": {
        "id": "0XSgZcpT4tkC"
      },
      "source": [
        "# ライブラリのインポート"
      ]
    },
    {
      "cell_type": "code",
      "metadata": {
        "id": "9hlcGt_j4tkD"
      },
      "source": [
        "import pandas as pd\n",
        "import numpy as np\n",
        "\n",
        "from matplotlib import pyplot as plt\n",
        "%matplotlib inline\n",
        "\n",
        "import os\n",
        "import glob\n",
        "\n",
        "import librosa\n",
        "\n",
        "import datetime\n",
        "\n",
        "import gc\n",
        "\n",
        "from sklearn.datasets import load_boston\n",
        "from pandas import DataFrame"
      ],
      "execution_count": null,
      "outputs": []
    },
    {
      "cell_type": "code",
      "metadata": {
        "colab": {
          "base_uri": "https://localhost:8080/"
        },
        "id": "l3Kfi-5YVRYV",
        "outputId": "82d00bbb-df4e-45c0-f803-1a250e5f1894"
      },
      "source": [
        "#開始時刻\n",
        "start_time = datetime.datetime.now(datetime.timezone(datetime.timedelta(hours=9)))\n",
        "print(\"start_time=\",start_time)"
      ],
      "execution_count": null,
      "outputs": [
        {
          "output_type": "stream",
          "text": [
            "start_time= 2021-05-07 12:27:37.018279+09:00\n"
          ],
          "name": "stdout"
        }
      ]
    },
    {
      "cell_type": "markdown",
      "metadata": {
        "id": "UdzrJm_XYr17"
      },
      "source": [
        "# 乱数シードの初期化\n",
        "\n",
        "\n",
        "\n",
        "\n"
      ]
    },
    {
      "cell_type": "code",
      "metadata": {
        "id": "wNUHyFvYF1_Z"
      },
      "source": [
        "import os \n",
        "import numpy as np\n",
        "from sklearn import model_selection\n",
        "import tensorflow as tf\n",
        "import random\n",
        "\n",
        "COMMON_SEED = 0\n",
        "STANDARD_SEED = 0\n",
        "NP_SEED = 0\n",
        "TF_SEED = 0 \n",
        "\n",
        "# np.random.seed(STANDARD_SEED)\n",
        "# random.seed(NP_SEED)\n",
        "# tf.random.set_seed(TF_SEED)\n",
        "\n",
        "def seed_everything():\n",
        "    random.seed(STANDARD_SEED)\n",
        "    os.environ['PYTHONHASHSEED'] = str(COMMON_SEED)\n",
        "    os.environ['TF_DETERMINISTIC_OPS'] = '1'\n",
        "    os.environ['TF_CUDNN_DETERMINISTIC'] = '1'\n",
        "    np.random.seed(NP_SEED)\n",
        "    tf.random.set_seed(TF_SEED)\n",
        "    session_conf = tf.compat.v1.ConfigProto(\n",
        "        intra_op_parallelism_threads=1,\n",
        "        inter_op_parallelism_threads=1\n",
        "    )\n",
        "    sess = tf.compat.v1.Session(graph=tf.compat.v1.get_default_graph(), config=session_conf)\n",
        "    tf.compat.v1.keras.backend.set_session(sess)\n"
      ],
      "execution_count": null,
      "outputs": []
    },
    {
      "cell_type": "code",
      "metadata": {
        "id": "9AOmh1f2uhww"
      },
      "source": [
        "#乱数シード固定\n",
        "\n",
        "seed_everything()"
      ],
      "execution_count": null,
      "outputs": []
    },
    {
      "cell_type": "markdown",
      "metadata": {
        "id": "kJCupj3PTDaz"
      },
      "source": [
        "# デバッグプリント"
      ]
    },
    {
      "cell_type": "code",
      "metadata": {
        "id": "Tjg6IOY1SvJZ"
      },
      "source": [
        "DEBUG = False\n",
        "\n",
        "def debugPrint(str, debug=True):\n",
        "  if debug :\n",
        "    print(str)"
      ],
      "execution_count": null,
      "outputs": []
    },
    {
      "cell_type": "markdown",
      "metadata": {
        "id": "oXXh5d_gKCxM"
      },
      "source": [
        "# 共通クラス"
      ]
    },
    {
      "cell_type": "markdown",
      "metadata": {
        "id": "7e8hyPJMKVyM"
      },
      "source": [
        "# 共通関数"
      ]
    },
    {
      "cell_type": "markdown",
      "metadata": {
        "id": "c2Ke8jDeO7v-"
      },
      "source": [
        "# データ準備"
      ]
    },
    {
      "cell_type": "markdown",
      "metadata": {
        "id": "XnJTqv3eP0yE"
      },
      "source": [
        "## 入力データ準備\n",
        "\n",
        "8桁の2進数を生成"
      ]
    },
    {
      "cell_type": "code",
      "metadata": {
        "colab": {
          "base_uri": "https://localhost:8080/"
        },
        "id": "Qw5I0da-O-5A",
        "outputId": "1bcfe056-25b8-483c-a00c-3e1711c1f3c0"
      },
      "source": [
        "#データ準備\n",
        "#2進数の桁数\n",
        "binary_dim = 8\n",
        "\n",
        "#最大値+1\n",
        "largest_number = pow(2, binary_dim)\n",
        "print(\"largest_number=\",largest_number)\n",
        "\n",
        "#largest_numberまでの2進数を容易\n",
        "binary = np.unpackbits(np.array([range(largest_number)],dtype=np.uint8).T,axis=1)\n",
        "print(\"binary=\",binary)\n",
        "print(\"binary.shape=\",binary.shape)\n"
      ],
      "execution_count": null,
      "outputs": [
        {
          "output_type": "stream",
          "text": [
            "largest_number= 256\n",
            "binary= [[0 0 0 ... 0 0 0]\n",
            " [0 0 0 ... 0 0 1]\n",
            " [0 0 0 ... 0 1 0]\n",
            " ...\n",
            " [1 1 1 ... 1 0 1]\n",
            " [1 1 1 ... 1 1 0]\n",
            " [1 1 1 ... 1 1 1]]\n",
            "binary.shape= (256, 8)\n"
          ],
          "name": "stdout"
        }
      ]
    },
    {
      "cell_type": "code",
      "metadata": {
        "colab": {
          "base_uri": "https://localhost:8080/"
        },
        "id": "y6XwfKeqSGLS",
        "outputId": "6127a37c-424e-4138-f239-135fed0605b0"
      },
      "source": [
        "iters_num = 10000\n",
        "# DEBUG = True\n",
        "\n",
        "def create_datas(iters_num):\n",
        "  c1 = np.empty((0,2,8),float)\n",
        "  d1 = np.empty((0,8), float)\n",
        "\n",
        "  # arr = np.append(arr, np.array([1, 2, 3]))\n",
        "\n",
        "  for i in range(iters_num):\n",
        "\n",
        "    a1 = np.empty((0,8), float)\n",
        "    b1 = np.empty((0,8), float)\n",
        "\n",
        "    # a + b = d\n",
        "    a_int = np.random.randint(largest_number/2)\n",
        "    a_bin = binary[a_int] # binary_encoding\n",
        "    b_int = np.random.randint(largest_number/2)\n",
        "    b_bin = binary[b_int] # binary_encoding\n",
        "\n",
        "    a1 = np.append(a1, [a_bin], axis=0)\n",
        "    b1 = np.append(b1, [b_bin], axis=0)\n",
        "\n",
        "    tmp = a1.copy()\n",
        "    tmp = np.append(tmp, b1, axis=0)\n",
        "    tmp = tmp.transpose()\n",
        "    c1 = np.append(c1,tmp)\n",
        "    # print(tmp)\n",
        "    # print(\"--------------\")\n",
        "    # print(c1)\n",
        "    # print(\"--------------\")\n",
        "\n",
        "    # 正解データ\n",
        "    d_int = a_int + b_int\n",
        "    d_bin = binary[d_int]\n",
        "\n",
        "    d1 = np.append(d1, [d_bin], axis=0)\n",
        "\n",
        "    debugPrint(\"a:{}/{}\".format(a_bin,a_int),DEBUG)\n",
        "    debugPrint(\"b:{}/{}\".format(b_bin,b_int),DEBUG)\n",
        "    debugPrint(\"d:{}/{}\".format(d_bin,d_int),DEBUG)\n",
        "\n",
        "  c1 = np.reshape(c1, (-1, 8, 2))\n",
        "  d1 = np.reshape(d1, (-1, 8, 1))\n",
        "\n",
        "  return c1, d1\n",
        "\n",
        "c1, d1 = create_datas(iters_num)\n",
        "\n",
        "print(c1[1][1][1])\n",
        "print(c1.shape)\n",
        "\n",
        "print(d1[1][1])\n",
        "print(d1.shape)"
      ],
      "execution_count": null,
      "outputs": [
        {
          "output_type": "stream",
          "text": [
            "1.0\n",
            "(10000, 8, 2)\n",
            "[0.]\n",
            "(10000, 8, 1)\n"
          ],
          "name": "stdout"
        }
      ]
    },
    {
      "cell_type": "markdown",
      "metadata": {
        "id": "0SP7HEOMQnC3"
      },
      "source": [
        "## モデル初期値定義"
      ]
    },
    {
      "cell_type": "code",
      "metadata": {
        "id": "R6gm2vToQU-9"
      },
      "source": [
        "input_layer_size = 2\n",
        "hidden_layer_size = 32\n",
        "output_layer_size = 1\n"
      ],
      "execution_count": null,
      "outputs": []
    },
    {
      "cell_type": "markdown",
      "metadata": {
        "id": "SnGNKYYp3QtI"
      },
      "source": [
        "# SelfAttention\n",
        "\n"
      ]
    },
    {
      "cell_type": "code",
      "metadata": {
        "colab": {
          "base_uri": "https://localhost:8080/"
        },
        "id": "lGjykCzb3Uf3",
        "outputId": "b1573dd6-d86a-476d-cabc-7793c08d86e4"
      },
      "source": [
        "! pip install keras-self-attention"
      ],
      "execution_count": null,
      "outputs": [
        {
          "output_type": "stream",
          "text": [
            "Collecting keras-self-attention\n",
            "  Downloading https://files.pythonhosted.org/packages/c3/34/e21dc6adcdab2be03781bde78c6c5d2b2136d35a1dd3e692d7e160ba062a/keras-self-attention-0.49.0.tar.gz\n",
            "Requirement already satisfied: numpy in /usr/local/lib/python3.7/dist-packages (from keras-self-attention) (1.19.5)\n",
            "Requirement already satisfied: Keras in /usr/local/lib/python3.7/dist-packages (from keras-self-attention) (2.4.3)\n",
            "Requirement already satisfied: scipy>=0.14 in /usr/local/lib/python3.7/dist-packages (from Keras->keras-self-attention) (1.4.1)\n",
            "Requirement already satisfied: pyyaml in /usr/local/lib/python3.7/dist-packages (from Keras->keras-self-attention) (3.13)\n",
            "Requirement already satisfied: h5py in /usr/local/lib/python3.7/dist-packages (from Keras->keras-self-attention) (2.10.0)\n",
            "Requirement already satisfied: six in /usr/local/lib/python3.7/dist-packages (from h5py->Keras->keras-self-attention) (1.15.0)\n",
            "Building wheels for collected packages: keras-self-attention\n",
            "  Building wheel for keras-self-attention (setup.py) ... \u001b[?25l\u001b[?25hdone\n",
            "  Created wheel for keras-self-attention: filename=keras_self_attention-0.49.0-cp37-none-any.whl size=19468 sha256=60e9593f56ebd8e1fb4b5231c1cc4a2c11e24040d48ee5c992e4cbe687e98be1\n",
            "  Stored in directory: /root/.cache/pip/wheels/6f/9d/c5/26693a5092d9313daeae94db04818fc0a2b7a48ea381989f34\n",
            "Successfully built keras-self-attention\n",
            "Installing collected packages: keras-self-attention\n",
            "Successfully installed keras-self-attention-0.49.0\n"
          ],
          "name": "stdout"
        }
      ]
    },
    {
      "cell_type": "markdown",
      "metadata": {
        "id": "5xh6lRZ4O2Ph"
      },
      "source": [
        "# BidirectionalRNN"
      ]
    },
    {
      "cell_type": "code",
      "metadata": {
        "id": "qN3T1KHmO48i"
      },
      "source": [
        "import tensorflow.keras.layers\n",
        "\n",
        "from tensorflow.keras.models import Sequential\n",
        "from tensorflow.keras.layers import Dense, Activation\n",
        "from tensorflow.keras.layers import SimpleRNN\n",
        "from tensorflow.keras.layers import Bidirectional\n",
        "from tensorflow.keras.optimizers import Adam\n",
        "from tensorflow.keras.callbacks import EarlyStopping\n",
        "\n",
        "from keras_self_attention import SeqSelfAttention"
      ],
      "execution_count": null,
      "outputs": []
    },
    {
      "cell_type": "markdown",
      "metadata": {
        "id": "WkRgNMfR2i_m"
      },
      "source": [
        "## テストデータ作成"
      ]
    },
    {
      "cell_type": "code",
      "metadata": {
        "colab": {
          "base_uri": "https://localhost:8080/"
        },
        "id": "qhNfdZA_1YVm",
        "outputId": "0555ed43-43a7-454d-b31a-f0e9d4bfb2c7"
      },
      "source": [
        "length = c1.shape[0]\n",
        "print(\"length=\",length)\n",
        "\n",
        "train_X = c1[:int(length*0.8),:,:]\n",
        "print(\"trainX.shape=\",train_X.shape)\n",
        "\n",
        "val_X = c1[int(length*0.8):,:,:]\n",
        "print(\"valX.shape=\",val_X.shape)\n",
        "\n",
        "train_Y = d1[:int(length*0.8),:,:]\n",
        "print(\"trainY.shape=\",train_Y.shape)\n",
        "\n",
        "val_Y = d1[int(length*0.8):,:,:]\n",
        "print(\"valY.shape=\",val_Y.shape)\n",
        "\n"
      ],
      "execution_count": null,
      "outputs": [
        {
          "output_type": "stream",
          "text": [
            "length= 10000\n",
            "trainX.shape= (8000, 8, 2)\n",
            "valX.shape= (2000, 8, 2)\n",
            "trainY.shape= (8000, 8, 1)\n",
            "valY.shape= (2000, 8, 1)\n"
          ],
          "name": "stdout"
        }
      ]
    },
    {
      "cell_type": "markdown",
      "metadata": {
        "id": "I5pVQLZ32mZ2"
      },
      "source": [
        "## モデル定義"
      ]
    },
    {
      "cell_type": "code",
      "metadata": {
        "id": "3oIIGl8MPAok"
      },
      "source": [
        "model = Sequential()\n",
        "\n",
        "batch_input_shape_temp = (None, binary_dim, input_layer_size)\n",
        "\n",
        "model.add(Bidirectional(SimpleRNN(hidden_layer_size, go_backwards=True, return_sequences=True, batch_input_shape=batch_input_shape_temp )))\n",
        "\n",
        "model.add(SeqSelfAttention(attention_activation='sigmoid'))\n",
        "\n",
        "model.add(Dense(output_layer_size))\n",
        "\n",
        "model.add(Activation(\"sigmoid\"))\n",
        "\n",
        "optimizer = Adam(lr=0.001, decay=1e-7)\n",
        "\n",
        "model.compile(loss=\"mean_squared_error\", optimizer=optimizer)\n",
        "\n",
        "early_stopping = EarlyStopping(monitor='val_loss', mode='auto', patience=10)\n"
      ],
      "execution_count": null,
      "outputs": []
    },
    {
      "cell_type": "markdown",
      "metadata": {
        "id": "I_wYxZU02qFv"
      },
      "source": [
        "## 学習"
      ]
    },
    {
      "cell_type": "code",
      "metadata": {
        "colab": {
          "base_uri": "https://localhost:8080/"
        },
        "id": "CC6paJxcQvhh",
        "outputId": "00f4a76b-6551-4ef2-bc0f-fa0ce8b4c9e8"
      },
      "source": [
        "EPOCH = 1000\n",
        "batch_size = 64\n",
        "\n",
        "history = model.fit(\n",
        "                    # x=train_X, \n",
        "                    # y=train_Y, \n",
        "                    # # validation_data=(val_X, val_Y), \n",
        "                    x = c1,\n",
        "                    y = d1,\n",
        "                    validation_split=0.2,\n",
        "                    epochs=EPOCH, \n",
        "                    callbacks=early_stopping, \n",
        "                    batch_size=64, \n",
        "                    verbose=2)\n",
        "\n"
      ],
      "execution_count": null,
      "outputs": [
        {
          "output_type": "stream",
          "text": [
            "Epoch 1/1000\n",
            "125/125 - 4s - loss: 0.2481 - val_loss: 0.2455\n",
            "Epoch 2/1000\n",
            "125/125 - 1s - loss: 0.2398 - val_loss: 0.2281\n",
            "Epoch 3/1000\n",
            "125/125 - 1s - loss: 0.2131 - val_loss: 0.1944\n",
            "Epoch 4/1000\n",
            "125/125 - 1s - loss: 0.1855 - val_loss: 0.1736\n",
            "Epoch 5/1000\n",
            "125/125 - 1s - loss: 0.1663 - val_loss: 0.1583\n",
            "Epoch 6/1000\n",
            "125/125 - 1s - loss: 0.1512 - val_loss: 0.1467\n",
            "Epoch 7/1000\n",
            "125/125 - 1s - loss: 0.1409 - val_loss: 0.1376\n",
            "Epoch 8/1000\n",
            "125/125 - 1s - loss: 0.1333 - val_loss: 0.1318\n",
            "Epoch 9/1000\n",
            "125/125 - 1s - loss: 0.1236 - val_loss: 0.1193\n",
            "Epoch 10/1000\n",
            "125/125 - 1s - loss: 0.1156 - val_loss: 0.1125\n",
            "Epoch 11/1000\n",
            "125/125 - 1s - loss: 0.1094 - val_loss: 0.1109\n",
            "Epoch 12/1000\n",
            "125/125 - 1s - loss: 0.1045 - val_loss: 0.1029\n",
            "Epoch 13/1000\n",
            "125/125 - 1s - loss: 0.1000 - val_loss: 0.0990\n",
            "Epoch 14/1000\n",
            "125/125 - 1s - loss: 0.0967 - val_loss: 0.0976\n",
            "Epoch 15/1000\n",
            "125/125 - 1s - loss: 0.0921 - val_loss: 0.0909\n",
            "Epoch 16/1000\n",
            "125/125 - 1s - loss: 0.0879 - val_loss: 0.0875\n",
            "Epoch 17/1000\n",
            "125/125 - 1s - loss: 0.0849 - val_loss: 0.0846\n",
            "Epoch 18/1000\n",
            "125/125 - 1s - loss: 0.0813 - val_loss: 0.0850\n",
            "Epoch 19/1000\n",
            "125/125 - 1s - loss: 0.0793 - val_loss: 0.0798\n",
            "Epoch 20/1000\n",
            "125/125 - 1s - loss: 0.0760 - val_loss: 0.0762\n",
            "Epoch 21/1000\n",
            "125/125 - 1s - loss: 0.0741 - val_loss: 0.0737\n",
            "Epoch 22/1000\n",
            "125/125 - 1s - loss: 0.0712 - val_loss: 0.0718\n",
            "Epoch 23/1000\n",
            "125/125 - 1s - loss: 0.0690 - val_loss: 0.0709\n",
            "Epoch 24/1000\n",
            "125/125 - 1s - loss: 0.0668 - val_loss: 0.0677\n",
            "Epoch 25/1000\n",
            "125/125 - 1s - loss: 0.0639 - val_loss: 0.0658\n",
            "Epoch 26/1000\n",
            "125/125 - 1s - loss: 0.0622 - val_loss: 0.0608\n",
            "Epoch 27/1000\n",
            "125/125 - 1s - loss: 0.0595 - val_loss: 0.0600\n",
            "Epoch 28/1000\n",
            "125/125 - 1s - loss: 0.0557 - val_loss: 0.0561\n",
            "Epoch 29/1000\n",
            "125/125 - 1s - loss: 0.0535 - val_loss: 0.0540\n",
            "Epoch 30/1000\n",
            "125/125 - 1s - loss: 0.0502 - val_loss: 0.0497\n",
            "Epoch 31/1000\n",
            "125/125 - 1s - loss: 0.0469 - val_loss: 0.0475\n",
            "Epoch 32/1000\n",
            "125/125 - 1s - loss: 0.0442 - val_loss: 0.0446\n",
            "Epoch 33/1000\n",
            "125/125 - 1s - loss: 0.0420 - val_loss: 0.0409\n",
            "Epoch 34/1000\n",
            "125/125 - 1s - loss: 0.0379 - val_loss: 0.0377\n",
            "Epoch 35/1000\n",
            "125/125 - 1s - loss: 0.0352 - val_loss: 0.0342\n",
            "Epoch 36/1000\n",
            "125/125 - 1s - loss: 0.0317 - val_loss: 0.0318\n",
            "Epoch 37/1000\n",
            "125/125 - 1s - loss: 0.0286 - val_loss: 0.0293\n",
            "Epoch 38/1000\n",
            "125/125 - 1s - loss: 0.0268 - val_loss: 0.0266\n",
            "Epoch 39/1000\n",
            "125/125 - 1s - loss: 0.0270 - val_loss: 0.0241\n",
            "Epoch 40/1000\n",
            "125/125 - 1s - loss: 0.0212 - val_loss: 0.0218\n",
            "Epoch 41/1000\n",
            "125/125 - 1s - loss: 0.0197 - val_loss: 0.0219\n",
            "Epoch 42/1000\n",
            "125/125 - 1s - loss: 0.0177 - val_loss: 0.0194\n",
            "Epoch 43/1000\n",
            "125/125 - 1s - loss: 0.0155 - val_loss: 0.0156\n",
            "Epoch 44/1000\n",
            "125/125 - 1s - loss: 0.0144 - val_loss: 0.0150\n",
            "Epoch 45/1000\n",
            "125/125 - 1s - loss: 0.0128 - val_loss: 0.0131\n",
            "Epoch 46/1000\n",
            "125/125 - 1s - loss: 0.0117 - val_loss: 0.0125\n",
            "Epoch 47/1000\n",
            "125/125 - 1s - loss: 0.0108 - val_loss: 0.0116\n",
            "Epoch 48/1000\n",
            "125/125 - 1s - loss: 0.0102 - val_loss: 0.0114\n",
            "Epoch 49/1000\n",
            "125/125 - 1s - loss: 0.0109 - val_loss: 0.0102\n",
            "Epoch 50/1000\n",
            "125/125 - 1s - loss: 0.0089 - val_loss: 0.0101\n",
            "Epoch 51/1000\n",
            "125/125 - 1s - loss: 0.0088 - val_loss: 0.0097\n",
            "Epoch 52/1000\n",
            "125/125 - 1s - loss: 0.0079 - val_loss: 0.0087\n",
            "Epoch 53/1000\n",
            "125/125 - 1s - loss: 0.0074 - val_loss: 0.0081\n",
            "Epoch 54/1000\n",
            "125/125 - 1s - loss: 0.0073 - val_loss: 0.0088\n",
            "Epoch 55/1000\n",
            "125/125 - 1s - loss: 0.0071 - val_loss: 0.0072\n",
            "Epoch 56/1000\n",
            "125/125 - 1s - loss: 0.0064 - val_loss: 0.0069\n",
            "Epoch 57/1000\n",
            "125/125 - 1s - loss: 0.0065 - val_loss: 0.0117\n",
            "Epoch 58/1000\n",
            "125/125 - 1s - loss: 0.0075 - val_loss: 0.0064\n",
            "Epoch 59/1000\n",
            "125/125 - 1s - loss: 0.0052 - val_loss: 0.0058\n",
            "Epoch 60/1000\n",
            "125/125 - 1s - loss: 0.0088 - val_loss: 0.0066\n",
            "Epoch 61/1000\n",
            "125/125 - 1s - loss: 0.0052 - val_loss: 0.0056\n",
            "Epoch 62/1000\n",
            "125/125 - 1s - loss: 0.0047 - val_loss: 0.0052\n",
            "Epoch 63/1000\n",
            "125/125 - 1s - loss: 0.0048 - val_loss: 0.0053\n",
            "Epoch 64/1000\n",
            "125/125 - 1s - loss: 0.0042 - val_loss: 0.0048\n",
            "Epoch 65/1000\n",
            "125/125 - 1s - loss: 0.0040 - val_loss: 0.0048\n",
            "Epoch 66/1000\n",
            "125/125 - 1s - loss: 0.0058 - val_loss: 0.0046\n",
            "Epoch 67/1000\n",
            "125/125 - 1s - loss: 0.0038 - val_loss: 0.0044\n",
            "Epoch 68/1000\n",
            "125/125 - 1s - loss: 0.0036 - val_loss: 0.0042\n",
            "Epoch 69/1000\n",
            "125/125 - 1s - loss: 0.0035 - val_loss: 0.0041\n",
            "Epoch 70/1000\n",
            "125/125 - 1s - loss: 0.0054 - val_loss: 0.0053\n",
            "Epoch 71/1000\n",
            "125/125 - 1s - loss: 0.0037 - val_loss: 0.0040\n",
            "Epoch 72/1000\n",
            "125/125 - 1s - loss: 0.0040 - val_loss: 0.0040\n",
            "Epoch 73/1000\n",
            "125/125 - 1s - loss: 0.0032 - val_loss: 0.0038\n",
            "Epoch 74/1000\n",
            "125/125 - 1s - loss: 0.0031 - val_loss: 0.0036\n",
            "Epoch 75/1000\n",
            "125/125 - 1s - loss: 0.0030 - val_loss: 0.0035\n",
            "Epoch 76/1000\n",
            "125/125 - 1s - loss: 0.0029 - val_loss: 0.0035\n",
            "Epoch 77/1000\n",
            "125/125 - 1s - loss: 0.0029 - val_loss: 0.0034\n",
            "Epoch 78/1000\n",
            "125/125 - 1s - loss: 0.0037 - val_loss: 0.0070\n",
            "Epoch 79/1000\n",
            "125/125 - 1s - loss: 0.0071 - val_loss: 0.0057\n",
            "Epoch 80/1000\n",
            "125/125 - 1s - loss: 0.0032 - val_loss: 0.0034\n",
            "Epoch 81/1000\n",
            "125/125 - 1s - loss: 0.0028 - val_loss: 0.0033\n",
            "Epoch 82/1000\n",
            "125/125 - 1s - loss: 0.0027 - val_loss: 0.0033\n",
            "Epoch 83/1000\n",
            "125/125 - 1s - loss: 0.0027 - val_loss: 0.0031\n",
            "Epoch 84/1000\n",
            "125/125 - 1s - loss: 0.0026 - val_loss: 0.0031\n",
            "Epoch 85/1000\n",
            "125/125 - 1s - loss: 0.0026 - val_loss: 0.0031\n",
            "Epoch 86/1000\n",
            "125/125 - 1s - loss: 0.0025 - val_loss: 0.0030\n",
            "Epoch 87/1000\n",
            "125/125 - 1s - loss: 0.0025 - val_loss: 0.0030\n",
            "Epoch 88/1000\n",
            "125/125 - 1s - loss: 0.0025 - val_loss: 0.0029\n",
            "Epoch 89/1000\n",
            "125/125 - 1s - loss: 0.0028 - val_loss: 0.0040\n",
            "Epoch 90/1000\n",
            "125/125 - 1s - loss: 0.0058 - val_loss: 0.0038\n",
            "Epoch 91/1000\n",
            "125/125 - 1s - loss: 0.0028 - val_loss: 0.0030\n",
            "Epoch 92/1000\n",
            "125/125 - 1s - loss: 0.0024 - val_loss: 0.0030\n",
            "Epoch 93/1000\n",
            "125/125 - 1s - loss: 0.0024 - val_loss: 0.0028\n",
            "Epoch 94/1000\n",
            "125/125 - 1s - loss: 0.0030 - val_loss: 0.0039\n",
            "Epoch 95/1000\n",
            "125/125 - 1s - loss: 0.0039 - val_loss: 0.0029\n",
            "Epoch 96/1000\n",
            "125/125 - 1s - loss: 0.0024 - val_loss: 0.0028\n",
            "Epoch 97/1000\n",
            "125/125 - 1s - loss: 0.0024 - val_loss: 0.0029\n",
            "Epoch 98/1000\n",
            "125/125 - 1s - loss: 0.0025 - val_loss: 0.0027\n",
            "Epoch 99/1000\n",
            "125/125 - 1s - loss: 0.0023 - val_loss: 0.0027\n",
            "Epoch 100/1000\n",
            "125/125 - 1s - loss: 0.0023 - val_loss: 0.0027\n",
            "Epoch 101/1000\n",
            "125/125 - 1s - loss: 0.0022 - val_loss: 0.0026\n",
            "Epoch 102/1000\n",
            "125/125 - 1s - loss: 0.0022 - val_loss: 0.0026\n",
            "Epoch 103/1000\n",
            "125/125 - 1s - loss: 0.0022 - val_loss: 0.0026\n",
            "Epoch 104/1000\n",
            "125/125 - 1s - loss: 0.0022 - val_loss: 0.0026\n",
            "Epoch 105/1000\n",
            "125/125 - 1s - loss: 0.0022 - val_loss: 0.0029\n",
            "Epoch 106/1000\n",
            "125/125 - 1s - loss: 0.0074 - val_loss: 0.0204\n",
            "Epoch 107/1000\n",
            "125/125 - 1s - loss: 0.0061 - val_loss: 0.0028\n",
            "Epoch 108/1000\n",
            "125/125 - 1s - loss: 0.0023 - val_loss: 0.0027\n",
            "Epoch 109/1000\n",
            "125/125 - 1s - loss: 0.0022 - val_loss: 0.0026\n",
            "Epoch 110/1000\n",
            "125/125 - 1s - loss: 0.0022 - val_loss: 0.0026\n",
            "Epoch 111/1000\n",
            "125/125 - 1s - loss: 0.0022 - val_loss: 0.0026\n",
            "Epoch 112/1000\n",
            "125/125 - 1s - loss: 0.0022 - val_loss: 0.0026\n",
            "Epoch 113/1000\n",
            "125/125 - 1s - loss: 0.0021 - val_loss: 0.0026\n",
            "Epoch 114/1000\n",
            "125/125 - 1s - loss: 0.0021 - val_loss: 0.0026\n",
            "Epoch 115/1000\n",
            "125/125 - 1s - loss: 0.0021 - val_loss: 0.0025\n",
            "Epoch 116/1000\n",
            "125/125 - 1s - loss: 0.0021 - val_loss: 0.0025\n",
            "Epoch 117/1000\n",
            "125/125 - 1s - loss: 0.0021 - val_loss: 0.0025\n",
            "Epoch 118/1000\n",
            "125/125 - 1s - loss: 0.0021 - val_loss: 0.0026\n",
            "Epoch 119/1000\n",
            "125/125 - 1s - loss: 0.0021 - val_loss: 0.0025\n",
            "Epoch 120/1000\n",
            "125/125 - 1s - loss: 0.0021 - val_loss: 0.0025\n",
            "Epoch 121/1000\n",
            "125/125 - 1s - loss: 0.0021 - val_loss: 0.0025\n",
            "Epoch 122/1000\n",
            "125/125 - 1s - loss: 0.0021 - val_loss: 0.0025\n",
            "Epoch 123/1000\n",
            "125/125 - 1s - loss: 0.0021 - val_loss: 0.0024\n",
            "Epoch 124/1000\n",
            "125/125 - 1s - loss: 0.0021 - val_loss: 0.0026\n",
            "Epoch 125/1000\n",
            "125/125 - 1s - loss: 0.0021 - val_loss: 0.0025\n",
            "Epoch 126/1000\n",
            "125/125 - 1s - loss: 0.0087 - val_loss: 0.0049\n",
            "Epoch 127/1000\n",
            "125/125 - 1s - loss: 0.0035 - val_loss: 0.0026\n",
            "Epoch 128/1000\n",
            "125/125 - 1s - loss: 0.0021 - val_loss: 0.0025\n",
            "Epoch 129/1000\n",
            "125/125 - 1s - loss: 0.0022 - val_loss: 0.0025\n",
            "Epoch 130/1000\n",
            "125/125 - 1s - loss: 0.0021 - val_loss: 0.0024\n",
            "Epoch 131/1000\n",
            "125/125 - 1s - loss: 0.0021 - val_loss: 0.0024\n",
            "Epoch 132/1000\n",
            "125/125 - 1s - loss: 0.0021 - val_loss: 0.0024\n",
            "Epoch 133/1000\n",
            "125/125 - 1s - loss: 0.0021 - val_loss: 0.0024\n",
            "Epoch 134/1000\n",
            "125/125 - 1s - loss: 0.0020 - val_loss: 0.0024\n",
            "Epoch 135/1000\n",
            "125/125 - 1s - loss: 0.0020 - val_loss: 0.0024\n",
            "Epoch 136/1000\n",
            "125/125 - 1s - loss: 0.0020 - val_loss: 0.0025\n",
            "Epoch 137/1000\n",
            "125/125 - 1s - loss: 0.0020 - val_loss: 0.0024\n",
            "Epoch 138/1000\n",
            "125/125 - 1s - loss: 0.0020 - val_loss: 0.0024\n",
            "Epoch 139/1000\n",
            "125/125 - 1s - loss: 0.0020 - val_loss: 0.0024\n",
            "Epoch 140/1000\n",
            "125/125 - 1s - loss: 0.0020 - val_loss: 0.0024\n",
            "Epoch 141/1000\n",
            "125/125 - 1s - loss: 0.0020 - val_loss: 0.0024\n",
            "Epoch 142/1000\n",
            "125/125 - 1s - loss: 0.0020 - val_loss: 0.0024\n",
            "Epoch 143/1000\n",
            "125/125 - 1s - loss: 0.0041 - val_loss: 0.0053\n",
            "Epoch 144/1000\n",
            "125/125 - 1s - loss: 0.0050 - val_loss: 0.0057\n",
            "Epoch 145/1000\n",
            "125/125 - 1s - loss: 0.0037 - val_loss: 0.0028\n",
            "Epoch 146/1000\n",
            "125/125 - 1s - loss: 0.0021 - val_loss: 0.0025\n",
            "Epoch 147/1000\n",
            "125/125 - 1s - loss: 0.0021 - val_loss: 0.0024\n",
            "Epoch 148/1000\n",
            "125/125 - 1s - loss: 0.0020 - val_loss: 0.0024\n",
            "Epoch 149/1000\n",
            "125/125 - 1s - loss: 0.0020 - val_loss: 0.0024\n",
            "Epoch 150/1000\n",
            "125/125 - 1s - loss: 0.0020 - val_loss: 0.0024\n",
            "Epoch 151/1000\n",
            "125/125 - 1s - loss: 0.0020 - val_loss: 0.0023\n",
            "Epoch 152/1000\n",
            "125/125 - 1s - loss: 0.0020 - val_loss: 0.0023\n",
            "Epoch 153/1000\n",
            "125/125 - 1s - loss: 0.0020 - val_loss: 0.0023\n",
            "Epoch 154/1000\n",
            "125/125 - 1s - loss: 0.0020 - val_loss: 0.0023\n",
            "Epoch 155/1000\n",
            "125/125 - 1s - loss: 0.0020 - val_loss: 0.0023\n",
            "Epoch 156/1000\n",
            "125/125 - 1s - loss: 0.0020 - val_loss: 0.0023\n",
            "Epoch 157/1000\n",
            "125/125 - 1s - loss: 0.0020 - val_loss: 0.0023\n",
            "Epoch 158/1000\n",
            "125/125 - 1s - loss: 0.0020 - val_loss: 0.0023\n",
            "Epoch 159/1000\n",
            "125/125 - 1s - loss: 0.0020 - val_loss: 0.0024\n",
            "Epoch 160/1000\n",
            "125/125 - 1s - loss: 0.0020 - val_loss: 0.0023\n",
            "Epoch 161/1000\n",
            "125/125 - 1s - loss: 0.0020 - val_loss: 0.0024\n",
            "Epoch 162/1000\n",
            "125/125 - 1s - loss: 0.0020 - val_loss: 0.0023\n",
            "Epoch 163/1000\n",
            "125/125 - 1s - loss: 0.0020 - val_loss: 0.0023\n",
            "Epoch 164/1000\n",
            "125/125 - 1s - loss: 0.0020 - val_loss: 0.0024\n",
            "Epoch 165/1000\n",
            "125/125 - 1s - loss: 0.0033 - val_loss: 0.0083\n",
            "Epoch 166/1000\n",
            "125/125 - 1s - loss: 0.0075 - val_loss: 0.0028\n",
            "Epoch 167/1000\n",
            "125/125 - 1s - loss: 0.0021 - val_loss: 0.0024\n"
          ],
          "name": "stdout"
        }
      ]
    },
    {
      "cell_type": "markdown",
      "metadata": {
        "id": "x85n3tbEHIJx"
      },
      "source": [
        "\n",
        "# `グラフ表示`"
      ]
    },
    {
      "cell_type": "code",
      "metadata": {
        "id": "CyhXc8FJueE0",
        "colab": {
          "base_uri": "https://localhost:8080/",
          "height": 280
        },
        "outputId": "e0cf2abc-f3c3-4ca5-928b-d1a5ff1be8cd"
      },
      "source": [
        "# plt.plot(history.history['acc'])\n",
        "# plt.plot(history.history['val_acc'])\n",
        "# plt.title('Model accuracy')\n",
        "# plt.ylabel('Accuracy')\n",
        "plt.plot(history.history['loss'])\n",
        "plt.plot(history.history['val_loss'])\n",
        "plt.xlabel('Epoch')\n",
        "plt.grid()\n",
        "plt.legend(['Train', 'Validation'], loc='upper left')\n",
        "plt.show()"
      ],
      "execution_count": null,
      "outputs": [
        {
          "output_type": "display_data",
          "data": {
            "image/png": "[encoded data removed]",
            "text/plain": [
              "<Figure size 432x288 with 1 Axes>"
            ]
          },
          "metadata": {
            "tags": [],
            "needs_background": "light"
          }
        }
      ]
    },
    {
      "cell_type": "markdown",
      "metadata": {
        "id": "vms7jxcU8xJQ"
      },
      "source": [
        "# 推論"
      ]
    },
    {
      "cell_type": "code",
      "metadata": {
        "id": "vQZLksvW8zbH"
      },
      "source": [
        "test_X, test_Y = create_datas(100)\n",
        "\n",
        "predict = model.predict(test_X)"
      ],
      "execution_count": null,
      "outputs": []
    },
    {
      "cell_type": "code",
      "metadata": {
        "colab": {
          "base_uri": "https://localhost:8080/"
        },
        "id": "hUDmszIa-aXN",
        "outputId": "1776efec-1fbc-414a-8730-b9b4827ddeb6"
      },
      "source": [
        "predict = np.reshape(predict,(100,8))\n",
        "test_Y = np.reshape(test_Y,(100,8))\n",
        "\n",
        "print(\"predct.shape=\",predict.shape)\n",
        "print(\"test_Y.shape=\",test_Y.shape)\n",
        "\n",
        "\n",
        "MAE = np.sum(np.abs(predict-test_Y))\n",
        "\n",
        "print(MAE)"
      ],
      "execution_count": null,
      "outputs": [
        {
          "output_type": "stream",
          "text": [
            "predct.shape= (100, 8)\n",
            "test_Y.shape= (100, 8)\n",
            "47.57113207155599\n"
          ],
          "name": "stdout"
        }
      ]
    },
    {
      "cell_type": "markdown",
      "metadata": {
        "id": "v8AH400idpTk"
      },
      "source": [
        "# 終わり"
      ]
    },
    {
      "cell_type": "code",
      "metadata": {
        "id": "bdBIu4za5umf",
        "colab": {
          "base_uri": "https://localhost:8080/"
        },
        "outputId": "cd0ae9ad-8c1f-4a6f-aa4a-982f85972e0b"
      },
      "source": [
        "#終了時刻\n",
        "finish_time = datetime.datetime.now(datetime.timezone(datetime.timedelta(hours=9)))\n",
        "print(\"finish_time=\",finish_time)\n",
        "print(\"total_time=\",finish_time-start_time)\n"
      ],
      "execution_count": null,
      "outputs": [
        {
          "output_type": "stream",
          "text": [
            "finish_time= 2021-05-07 07:23:59.146057+09:00\n",
            "total_time= 0:00:53.924948\n"
          ],
          "name": "stdout"
        }
      ]
    }
  ]
}