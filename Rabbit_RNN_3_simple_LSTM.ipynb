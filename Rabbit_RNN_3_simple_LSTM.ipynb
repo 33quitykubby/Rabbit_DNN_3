{
  "nbformat": 4,
  "nbformat_minor": 0,
  "metadata": {
    "colab": {
      "name": "Rabbit_RNN_3_simple_LSTM.ipynb",
      "provenance": [],
      "collapsed_sections": [],
      "toc_visible": true,
      "include_colab_link": true
    },
    "kernelspec": {
      "display_name": "Python 3",
      "name": "python3"
    }
  },
  "cells": [
    {
      "cell_type": "markdown",
      "metadata": {
        "id": "view-in-github",
        "colab_type": "text"
      },
      "source": [
        "<a href=\"https://colab.research.google.com/github/33quitykubby/Rabbit_DNN_3/blob/main/Rabbit_RNN_3_simple_LSTM.ipynb\" target=\"_parent\"><img src=\"https://colab.research.google.com/assets/colab-badge.svg\" alt=\"Open In Colab\"/></a>"
      ]
    },
    {
      "cell_type": "markdown",
      "metadata": {
        "id": "ndo0gsKs29oE"
      },
      "source": [
        "# LSTM\n",
        "\n",
        "サンプルコード3_1_simple_RNN_after.ipynb  \n",
        "上記同様に8bit演算の推測を行う  \n",
        "LSTMのフルスクラッチ実装を断念しkerasで実装する"
      ]
    },
    {
      "cell_type": "markdown",
      "metadata": {
        "id": "aFawz7zCioGw"
      },
      "source": [
        "# 日本時間にする"
      ]
    },
    {
      "cell_type": "code",
      "metadata": {
        "colab": {
          "base_uri": "https://localhost:8080/"
        },
        "id": "Qqk7xVQXilAv",
        "outputId": "88225851-afda-43fa-b89e-3257013a984c"
      },
      "source": [
        "  !rm /etc/localtime\n",
        "  !ln -s /usr/share/zoneinfo/Asia/Tokyo /etc/localtime\n",
        "  !date"
      ],
      "execution_count": null,
      "outputs": [
        {
          "output_type": "stream",
          "text": [
            "Fri May  7 07:24:21 JST 2021\n"
          ],
          "name": "stdout"
        }
      ]
    },
    {
      "cell_type": "markdown",
      "metadata": {
        "id": "0XSgZcpT4tkC"
      },
      "source": [
        "# ライブラリのインポート"
      ]
    },
    {
      "cell_type": "code",
      "metadata": {
        "id": "9hlcGt_j4tkD"
      },
      "source": [
        "import pandas as pd\n",
        "import numpy as np\n",
        "\n",
        "from matplotlib import pyplot as plt\n",
        "%matplotlib inline\n",
        "\n",
        "import os\n",
        "import glob\n",
        "\n",
        "import librosa\n",
        "\n",
        "import datetime\n",
        "\n",
        "import gc\n",
        "\n",
        "from sklearn.datasets import load_boston\n",
        "from pandas import DataFrame"
      ],
      "execution_count": null,
      "outputs": []
    },
    {
      "cell_type": "code",
      "metadata": {
        "colab": {
          "base_uri": "https://localhost:8080/"
        },
        "id": "l3Kfi-5YVRYV",
        "outputId": "c4a63781-8880-4714-fc3e-69e0a2d6a615"
      },
      "source": [
        "#開始時刻\n",
        "start_time = datetime.datetime.now(datetime.timezone(datetime.timedelta(hours=9)))\n",
        "print(\"start_time=\",start_time)"
      ],
      "execution_count": null,
      "outputs": [
        {
          "output_type": "stream",
          "text": [
            "start_time= 2021-05-07 07:24:25.147545+09:00\n"
          ],
          "name": "stdout"
        }
      ]
    },
    {
      "cell_type": "markdown",
      "metadata": {
        "id": "UdzrJm_XYr17"
      },
      "source": [
        "# 乱数シードの初期化\n",
        "\n",
        "\n",
        "\n",
        "\n"
      ]
    },
    {
      "cell_type": "code",
      "metadata": {
        "id": "wNUHyFvYF1_Z"
      },
      "source": [
        "import os \n",
        "import numpy as np\n",
        "from sklearn import model_selection\n",
        "import tensorflow as tf\n",
        "import random\n",
        "\n",
        "COMMON_SEED = 0\n",
        "STANDARD_SEED = 0\n",
        "NP_SEED = 0\n",
        "TF_SEED = 0 \n",
        "\n",
        "# np.random.seed(STANDARD_SEED)\n",
        "# random.seed(NP_SEED)\n",
        "# tf.random.set_seed(TF_SEED)\n",
        "\n",
        "def seed_everything():\n",
        "    random.seed(STANDARD_SEED)\n",
        "    os.environ['PYTHONHASHSEED'] = str(COMMON_SEED)\n",
        "    os.environ['TF_DETERMINISTIC_OPS'] = '1'\n",
        "    os.environ['TF_CUDNN_DETERMINISTIC'] = '1'\n",
        "    np.random.seed(NP_SEED)\n",
        "    tf.random.set_seed(TF_SEED)\n",
        "    session_conf = tf.compat.v1.ConfigProto(\n",
        "        intra_op_parallelism_threads=1,\n",
        "        inter_op_parallelism_threads=1\n",
        "    )\n",
        "    sess = tf.compat.v1.Session(graph=tf.compat.v1.get_default_graph(), config=session_conf)\n",
        "    tf.compat.v1.keras.backend.set_session(sess)\n"
      ],
      "execution_count": null,
      "outputs": []
    },
    {
      "cell_type": "code",
      "metadata": {
        "id": "9AOmh1f2uhww"
      },
      "source": [
        "#乱数シード固定\n",
        "\n",
        "seed_everything()"
      ],
      "execution_count": null,
      "outputs": []
    },
    {
      "cell_type": "markdown",
      "metadata": {
        "id": "kJCupj3PTDaz"
      },
      "source": [
        "# デバッグプリント"
      ]
    },
    {
      "cell_type": "code",
      "metadata": {
        "id": "Tjg6IOY1SvJZ"
      },
      "source": [
        "DEBUG = False\n",
        "\n",
        "def debugPrint(str, debug=True):\n",
        "  if debug :\n",
        "    print(str)"
      ],
      "execution_count": null,
      "outputs": []
    },
    {
      "cell_type": "markdown",
      "metadata": {
        "id": "oXXh5d_gKCxM"
      },
      "source": [
        "# 共通クラス"
      ]
    },
    {
      "cell_type": "markdown",
      "metadata": {
        "id": "7e8hyPJMKVyM"
      },
      "source": [
        "# 共通関数"
      ]
    },
    {
      "cell_type": "markdown",
      "metadata": {
        "id": "c2Ke8jDeO7v-"
      },
      "source": [
        "# データ準備"
      ]
    },
    {
      "cell_type": "markdown",
      "metadata": {
        "id": "XnJTqv3eP0yE"
      },
      "source": [
        "## 入力データ準備\n",
        "\n",
        "8桁の2進数を生成"
      ]
    },
    {
      "cell_type": "code",
      "metadata": {
        "colab": {
          "base_uri": "https://localhost:8080/"
        },
        "id": "Qw5I0da-O-5A",
        "outputId": "5232e5d5-c3b6-4d17-a69c-1c5bdaa0f8b7"
      },
      "source": [
        "#データ準備\n",
        "#2進数の桁数\n",
        "binary_dim = 8\n",
        "\n",
        "#最大値+1\n",
        "largest_number = pow(2, binary_dim)\n",
        "print(\"largest_number=\",largest_number)\n",
        "\n",
        "#largest_numberまでの2進数を容易\n",
        "binary = np.unpackbits(np.array([range(largest_number)],dtype=np.uint8).T,axis=1)\n",
        "print(\"binary=\",binary)\n",
        "print(\"binary.shape=\",binary.shape)\n"
      ],
      "execution_count": null,
      "outputs": [
        {
          "output_type": "stream",
          "text": [
            "largest_number= 256\n",
            "binary= [[0 0 0 ... 0 0 0]\n",
            " [0 0 0 ... 0 0 1]\n",
            " [0 0 0 ... 0 1 0]\n",
            " ...\n",
            " [1 1 1 ... 1 0 1]\n",
            " [1 1 1 ... 1 1 0]\n",
            " [1 1 1 ... 1 1 1]]\n",
            "binary.shape= (256, 8)\n"
          ],
          "name": "stdout"
        }
      ]
    },
    {
      "cell_type": "code",
      "metadata": {
        "colab": {
          "base_uri": "https://localhost:8080/"
        },
        "id": "_wrV2OrPxkNn",
        "outputId": "62b29752-4116-4f95-ae18-5fda82e28eb5"
      },
      "source": [
        "iters_num = 10000\n",
        "# DEBUG = True\n",
        "\n",
        "def create_datas(iters_num):\n",
        "  c1 = np.empty((0,2,8),float)\n",
        "  d1 = np.empty((0,8), float)\n",
        "\n",
        "  # arr = np.append(arr, np.array([1, 2, 3]))\n",
        "\n",
        "  for i in range(iters_num):\n",
        "\n",
        "    a1 = np.empty((0,8), float)\n",
        "    b1 = np.empty((0,8), float)\n",
        "\n",
        "    # a + b = d\n",
        "    a_int = np.random.randint(largest_number/2)\n",
        "    a_bin = binary[a_int] # binary_encoding\n",
        "    b_int = np.random.randint(largest_number/2)\n",
        "    b_bin = binary[b_int] # binary_encoding\n",
        "\n",
        "    a1 = np.append(a1, [a_bin], axis=0)\n",
        "    b1 = np.append(b1, [b_bin], axis=0)\n",
        "\n",
        "    tmp = a1.copy()\n",
        "    tmp = np.append(tmp, b1, axis=0)\n",
        "    tmp = tmp.transpose()\n",
        "    c1 = np.append(c1,tmp)\n",
        "    # print(tmp)\n",
        "    # print(\"--------------\")\n",
        "    # print(c1)\n",
        "    # print(\"--------------\")\n",
        "\n",
        "    # 正解データ\n",
        "    d_int = a_int + b_int\n",
        "    d_bin = binary[d_int]\n",
        "\n",
        "    d1 = np.append(d1, [d_bin], axis=0)\n",
        "\n",
        "    debugPrint(\"a:{}/{}\".format(a_bin,a_int),DEBUG)\n",
        "    debugPrint(\"b:{}/{}\".format(b_bin,b_int),DEBUG)\n",
        "    debugPrint(\"d:{}/{}\".format(d_bin,d_int),DEBUG)\n",
        "\n",
        "  c1 = np.reshape(c1, (-1, 8, 2))\n",
        "  d1 = np.reshape(d1, (-1, 8, 1))\n",
        "\n",
        "  return c1, d1\n",
        "\n",
        "c1, d1 = create_datas(iters_num)\n",
        "\n",
        "print(c1[1][1][1])\n",
        "print(c1.shape)\n",
        "\n",
        "print(d1[1][1])\n",
        "print(d1.shape)"
      ],
      "execution_count": null,
      "outputs": [
        {
          "output_type": "stream",
          "text": [
            "1.0\n",
            "(10000, 8, 2)\n",
            "[0.]\n",
            "(10000, 8, 1)\n"
          ],
          "name": "stdout"
        }
      ]
    },
    {
      "cell_type": "markdown",
      "metadata": {
        "id": "0SP7HEOMQnC3"
      },
      "source": [
        "## モデル初期値定義"
      ]
    },
    {
      "cell_type": "code",
      "metadata": {
        "id": "R6gm2vToQU-9"
      },
      "source": [
        "input_layer_size = 2\n",
        "hidden_layer_size = 32\n",
        "output_layer_size = 1\n"
      ],
      "execution_count": null,
      "outputs": []
    },
    {
      "cell_type": "markdown",
      "metadata": {
        "id": "5xh6lRZ4O2Ph"
      },
      "source": [
        "# LSTM"
      ]
    },
    {
      "cell_type": "code",
      "metadata": {
        "id": "qN3T1KHmO48i"
      },
      "source": [
        "from tensorflow.keras.models import Sequential\n",
        "from tensorflow.keras.layers import Dense, Activation\n",
        "from tensorflow.keras.layers import LSTM\n",
        "from tensorflow.keras.optimizers import Adam\n",
        "from tensorflow.keras.callbacks import EarlyStopping"
      ],
      "execution_count": null,
      "outputs": []
    },
    {
      "cell_type": "markdown",
      "metadata": {
        "id": "WkRgNMfR2i_m"
      },
      "source": [
        "## テストデータ作成"
      ]
    },
    {
      "cell_type": "code",
      "metadata": {
        "colab": {
          "base_uri": "https://localhost:8080/"
        },
        "id": "qhNfdZA_1YVm",
        "outputId": "54a601db-d9a8-4e55-e9a2-53208356bc1c"
      },
      "source": [
        "length = c1.shape[0]\n",
        "print(\"length=\",length)\n",
        "\n",
        "train_X = c1[:int(length*0.8),:,:]\n",
        "print(\"trainX.shape=\",train_X.shape)\n",
        "\n",
        "val_X = c1[int(length*0.8):,:,:]\n",
        "print(\"valX.shape=\",val_X.shape)\n",
        "\n",
        "train_Y = d1[:int(length*0.8),:,:]\n",
        "print(\"trainY.shape=\",train_Y.shape)\n",
        "\n",
        "val_Y = d1[int(length*0.8):,:,:]\n",
        "print(\"valY.shape=\",val_Y.shape)\n",
        "\n"
      ],
      "execution_count": null,
      "outputs": [
        {
          "output_type": "stream",
          "text": [
            "length= 10000\n",
            "trainX.shape= (8000, 8, 2)\n",
            "valX.shape= (2000, 8, 2)\n",
            "trainY.shape= (8000, 8, 1)\n",
            "valY.shape= (2000, 8, 1)\n"
          ],
          "name": "stdout"
        }
      ]
    },
    {
      "cell_type": "markdown",
      "metadata": {
        "id": "I5pVQLZ32mZ2"
      },
      "source": [
        "## モデル定義"
      ]
    },
    {
      "cell_type": "code",
      "metadata": {
        "id": "3oIIGl8MPAok"
      },
      "source": [
        "model = Sequential()\n",
        "\n",
        "batch_input_shape_temp = (None, binary_dim, input_layer_size)\n",
        "\n",
        "model.add(LSTM(hidden_layer_size, go_backwards=True, return_sequences=True, batch_input_shape=batch_input_shape_temp ))\n",
        "\n",
        "model.add(Dense(output_layer_size))\n",
        "\n",
        "model.add(Activation(\"sigmoid\"))\n",
        "\n",
        "optimizer = Adam(lr=0.001, decay=1e-7)\n",
        "\n",
        "model.compile(loss=\"mean_squared_error\", optimizer=optimizer)\n",
        "\n",
        "early_stopping = EarlyStopping(monitor='val_loss', mode='auto', patience=10)\n"
      ],
      "execution_count": null,
      "outputs": []
    },
    {
      "cell_type": "markdown",
      "metadata": {
        "id": "I_wYxZU02qFv"
      },
      "source": [
        "## 学習"
      ]
    },
    {
      "cell_type": "code",
      "metadata": {
        "colab": {
          "base_uri": "https://localhost:8080/"
        },
        "id": "CC6paJxcQvhh",
        "outputId": "c2d3e114-a72e-4d9d-9c61-04446578e918"
      },
      "source": [
        "EPOCH = 1000\n",
        "batch_size = 64\n",
        "\n",
        "history = model.fit(\n",
        "                    # x=train_X, \n",
        "                    # y=train_Y, \n",
        "                    # # validation_data=(val_X, val_Y), \n",
        "                    x = c1,\n",
        "                    y = d1,\n",
        "                    validation_split=0.2,\n",
        "                    epochs=EPOCH, \n",
        "                    callbacks=early_stopping, \n",
        "                    batch_size=64, \n",
        "                    verbose=2)\n",
        "\n"
      ],
      "execution_count": null,
      "outputs": [
        {
          "output_type": "stream",
          "text": [
            "Epoch 1/1000\n",
            "125/125 - 3s - loss: 0.2501 - val_loss: 0.2499\n",
            "Epoch 2/1000\n",
            "125/125 - 0s - loss: 0.2496 - val_loss: 0.2484\n",
            "Epoch 3/1000\n",
            "125/125 - 0s - loss: 0.2354 - val_loss: 0.2279\n",
            "Epoch 4/1000\n",
            "125/125 - 0s - loss: 0.2275 - val_loss: 0.2243\n",
            "Epoch 5/1000\n",
            "125/125 - 0s - loss: 0.2234 - val_loss: 0.2206\n",
            "Epoch 6/1000\n",
            "125/125 - 0s - loss: 0.2183 - val_loss: 0.2139\n",
            "Epoch 7/1000\n",
            "125/125 - 0s - loss: 0.2113 - val_loss: 0.2069\n",
            "Epoch 8/1000\n",
            "125/125 - 0s - loss: 0.2055 - val_loss: 0.2050\n",
            "Epoch 9/1000\n",
            "125/125 - 0s - loss: 0.2030 - val_loss: 0.2032\n",
            "Epoch 10/1000\n",
            "125/125 - 0s - loss: 0.2016 - val_loss: 0.2040\n",
            "Epoch 11/1000\n",
            "125/125 - 0s - loss: 0.2006 - val_loss: 0.2005\n",
            "Epoch 12/1000\n",
            "125/125 - 0s - loss: 0.2001 - val_loss: 0.1985\n",
            "Epoch 13/1000\n",
            "125/125 - 0s - loss: 0.1977 - val_loss: 0.1995\n",
            "Epoch 14/1000\n",
            "125/125 - 0s - loss: 0.1974 - val_loss: 0.1973\n",
            "Epoch 15/1000\n",
            "125/125 - 0s - loss: 0.1955 - val_loss: 0.1955\n",
            "Epoch 16/1000\n",
            "125/125 - 0s - loss: 0.1950 - val_loss: 0.1953\n",
            "Epoch 17/1000\n",
            "125/125 - 0s - loss: 0.1937 - val_loss: 0.1951\n",
            "Epoch 18/1000\n",
            "125/125 - 0s - loss: 0.1944 - val_loss: 0.1961\n",
            "Epoch 19/1000\n",
            "125/125 - 0s - loss: 0.1926 - val_loss: 0.1930\n",
            "Epoch 20/1000\n",
            "125/125 - 0s - loss: 0.1918 - val_loss: 0.1925\n",
            "Epoch 21/1000\n",
            "125/125 - 0s - loss: 0.1912 - val_loss: 0.1909\n",
            "Epoch 22/1000\n",
            "125/125 - 0s - loss: 0.1907 - val_loss: 0.1904\n",
            "Epoch 23/1000\n",
            "125/125 - 0s - loss: 0.1927 - val_loss: 0.1912\n",
            "Epoch 24/1000\n",
            "125/125 - 0s - loss: 0.1899 - val_loss: 0.1911\n",
            "Epoch 25/1000\n",
            "125/125 - 0s - loss: 0.1895 - val_loss: 0.1901\n",
            "Epoch 26/1000\n",
            "125/125 - 0s - loss: 0.1892 - val_loss: 0.1888\n",
            "Epoch 27/1000\n",
            "125/125 - 0s - loss: 0.1902 - val_loss: 0.1903\n",
            "Epoch 28/1000\n",
            "125/125 - 0s - loss: 0.1884 - val_loss: 0.1878\n",
            "Epoch 29/1000\n",
            "125/125 - 0s - loss: 0.1875 - val_loss: 0.1871\n",
            "Epoch 30/1000\n",
            "125/125 - 0s - loss: 0.1871 - val_loss: 0.1874\n",
            "Epoch 31/1000\n",
            "125/125 - 0s - loss: 0.1865 - val_loss: 0.1864\n",
            "Epoch 32/1000\n",
            "125/125 - 0s - loss: 0.1860 - val_loss: 0.1857\n",
            "Epoch 33/1000\n",
            "125/125 - 0s - loss: 0.1854 - val_loss: 0.1856\n",
            "Epoch 34/1000\n",
            "125/125 - 0s - loss: 0.1853 - val_loss: 0.1846\n",
            "Epoch 35/1000\n",
            "125/125 - 0s - loss: 0.1842 - val_loss: 0.1845\n",
            "Epoch 36/1000\n",
            "125/125 - 0s - loss: 0.1836 - val_loss: 0.1830\n",
            "Epoch 37/1000\n",
            "125/125 - 0s - loss: 0.1831 - val_loss: 0.1826\n",
            "Epoch 38/1000\n",
            "125/125 - 0s - loss: 0.1869 - val_loss: 0.1826\n",
            "Epoch 39/1000\n",
            "125/125 - 0s - loss: 0.1821 - val_loss: 0.1818\n",
            "Epoch 40/1000\n",
            "125/125 - 0s - loss: 0.1817 - val_loss: 0.1810\n",
            "Epoch 41/1000\n",
            "125/125 - 0s - loss: 0.1812 - val_loss: 0.1811\n",
            "Epoch 42/1000\n",
            "125/125 - 0s - loss: 0.1812 - val_loss: 0.1805\n",
            "Epoch 43/1000\n",
            "125/125 - 0s - loss: 0.1802 - val_loss: 0.1798\n",
            "Epoch 44/1000\n",
            "125/125 - 0s - loss: 0.1799 - val_loss: 0.1794\n",
            "Epoch 45/1000\n",
            "125/125 - 0s - loss: 0.1792 - val_loss: 0.1786\n",
            "Epoch 46/1000\n",
            "125/125 - 0s - loss: 0.1817 - val_loss: 0.1846\n",
            "Epoch 47/1000\n",
            "125/125 - 0s - loss: 0.1791 - val_loss: 0.1777\n",
            "Epoch 48/1000\n",
            "125/125 - 0s - loss: 0.1778 - val_loss: 0.1773\n",
            "Epoch 49/1000\n",
            "125/125 - 0s - loss: 0.1772 - val_loss: 0.1770\n",
            "Epoch 50/1000\n",
            "125/125 - 0s - loss: 0.1787 - val_loss: 0.1775\n",
            "Epoch 51/1000\n",
            "125/125 - 0s - loss: 0.1765 - val_loss: 0.1768\n",
            "Epoch 52/1000\n",
            "125/125 - 0s - loss: 0.1759 - val_loss: 0.1752\n",
            "Epoch 53/1000\n",
            "125/125 - 0s - loss: 0.1751 - val_loss: 0.1752\n",
            "Epoch 54/1000\n",
            "125/125 - 0s - loss: 0.1752 - val_loss: 0.1739\n",
            "Epoch 55/1000\n",
            "125/125 - 0s - loss: 0.1739 - val_loss: 0.1733\n",
            "Epoch 56/1000\n",
            "125/125 - 0s - loss: 0.1732 - val_loss: 0.1728\n",
            "Epoch 57/1000\n",
            "125/125 - 0s - loss: 0.1726 - val_loss: 0.1722\n",
            "Epoch 58/1000\n",
            "125/125 - 0s - loss: 0.1719 - val_loss: 0.1719\n",
            "Epoch 59/1000\n",
            "125/125 - 0s - loss: 0.1712 - val_loss: 0.1712\n",
            "Epoch 60/1000\n",
            "125/125 - 0s - loss: 0.1705 - val_loss: 0.1703\n",
            "Epoch 61/1000\n",
            "125/125 - 0s - loss: 0.1701 - val_loss: 0.1692\n",
            "Epoch 62/1000\n",
            "125/125 - 0s - loss: 0.1691 - val_loss: 0.1687\n",
            "Epoch 63/1000\n",
            "125/125 - 0s - loss: 0.1683 - val_loss: 0.1677\n",
            "Epoch 64/1000\n",
            "125/125 - 0s - loss: 0.1675 - val_loss: 0.1674\n",
            "Epoch 65/1000\n",
            "125/125 - 0s - loss: 0.1669 - val_loss: 0.1665\n",
            "Epoch 66/1000\n",
            "125/125 - 0s - loss: 0.1662 - val_loss: 0.1660\n",
            "Epoch 67/1000\n",
            "125/125 - 0s - loss: 0.1657 - val_loss: 0.1653\n",
            "Epoch 68/1000\n",
            "125/125 - 0s - loss: 0.1657 - val_loss: 0.1652\n",
            "Epoch 69/1000\n",
            "125/125 - 0s - loss: 0.1648 - val_loss: 0.1646\n",
            "Epoch 70/1000\n",
            "125/125 - 0s - loss: 0.1643 - val_loss: 0.1662\n",
            "Epoch 71/1000\n",
            "125/125 - 0s - loss: 0.1641 - val_loss: 0.1634\n",
            "Epoch 72/1000\n",
            "125/125 - 0s - loss: 0.1633 - val_loss: 0.1641\n",
            "Epoch 73/1000\n",
            "125/125 - 0s - loss: 0.1631 - val_loss: 0.1629\n",
            "Epoch 74/1000\n",
            "125/125 - 0s - loss: 0.1635 - val_loss: 0.1646\n",
            "Epoch 75/1000\n",
            "125/125 - 0s - loss: 0.1629 - val_loss: 0.1621\n",
            "Epoch 76/1000\n",
            "125/125 - 0s - loss: 0.1620 - val_loss: 0.1617\n",
            "Epoch 77/1000\n",
            "125/125 - 0s - loss: 0.1620 - val_loss: 0.1617\n",
            "Epoch 78/1000\n",
            "125/125 - 0s - loss: 0.1614 - val_loss: 0.1617\n",
            "Epoch 79/1000\n",
            "125/125 - 0s - loss: 0.1615 - val_loss: 0.1610\n",
            "Epoch 80/1000\n",
            "125/125 - 0s - loss: 0.1617 - val_loss: 0.1606\n",
            "Epoch 81/1000\n",
            "125/125 - 0s - loss: 0.1614 - val_loss: 0.1614\n",
            "Epoch 82/1000\n",
            "125/125 - 0s - loss: 0.1610 - val_loss: 0.1603\n",
            "Epoch 83/1000\n",
            "125/125 - 0s - loss: 0.1602 - val_loss: 0.1601\n",
            "Epoch 84/1000\n",
            "125/125 - 0s - loss: 0.1601 - val_loss: 0.1598\n",
            "Epoch 85/1000\n",
            "125/125 - 0s - loss: 0.1606 - val_loss: 0.1597\n",
            "Epoch 86/1000\n",
            "125/125 - 0s - loss: 0.1596 - val_loss: 0.1594\n",
            "Epoch 87/1000\n",
            "125/125 - 0s - loss: 0.1597 - val_loss: 0.1615\n",
            "Epoch 88/1000\n",
            "125/125 - 0s - loss: 0.1595 - val_loss: 0.1590\n",
            "Epoch 89/1000\n",
            "125/125 - 0s - loss: 0.1590 - val_loss: 0.1589\n",
            "Epoch 90/1000\n",
            "125/125 - 0s - loss: 0.1589 - val_loss: 0.1590\n",
            "Epoch 91/1000\n",
            "125/125 - 0s - loss: 0.1587 - val_loss: 0.1584\n",
            "Epoch 92/1000\n",
            "125/125 - 0s - loss: 0.1590 - val_loss: 0.1583\n",
            "Epoch 93/1000\n",
            "125/125 - 0s - loss: 0.1585 - val_loss: 0.1590\n",
            "Epoch 94/1000\n",
            "125/125 - 0s - loss: 0.1587 - val_loss: 0.1579\n",
            "Epoch 95/1000\n",
            "125/125 - 0s - loss: 0.1587 - val_loss: 0.1585\n",
            "Epoch 96/1000\n",
            "125/125 - 0s - loss: 0.1582 - val_loss: 0.1578\n",
            "Epoch 97/1000\n",
            "125/125 - 0s - loss: 0.1585 - val_loss: 0.1584\n",
            "Epoch 98/1000\n",
            "125/125 - 0s - loss: 0.1581 - val_loss: 0.1578\n",
            "Epoch 99/1000\n",
            "125/125 - 0s - loss: 0.1578 - val_loss: 0.1575\n",
            "Epoch 100/1000\n",
            "125/125 - 0s - loss: 0.1575 - val_loss: 0.1573\n",
            "Epoch 101/1000\n",
            "125/125 - 0s - loss: 0.1575 - val_loss: 0.1574\n",
            "Epoch 102/1000\n",
            "125/125 - 0s - loss: 0.1570 - val_loss: 0.1574\n",
            "Epoch 103/1000\n",
            "125/125 - 0s - loss: 0.1576 - val_loss: 0.1574\n",
            "Epoch 104/1000\n",
            "125/125 - 0s - loss: 0.1569 - val_loss: 0.1574\n",
            "Epoch 105/1000\n",
            "125/125 - 0s - loss: 0.1569 - val_loss: 0.1573\n",
            "Epoch 106/1000\n",
            "125/125 - 0s - loss: 0.1567 - val_loss: 0.1563\n",
            "Epoch 107/1000\n",
            "125/125 - 0s - loss: 0.1565 - val_loss: 0.1566\n",
            "Epoch 108/1000\n",
            "125/125 - 0s - loss: 0.1569 - val_loss: 0.1565\n",
            "Epoch 109/1000\n",
            "125/125 - 1s - loss: 0.1567 - val_loss: 0.1651\n",
            "Epoch 110/1000\n",
            "125/125 - 0s - loss: 0.1568 - val_loss: 0.1561\n",
            "Epoch 111/1000\n",
            "125/125 - 0s - loss: 0.1559 - val_loss: 0.1565\n",
            "Epoch 112/1000\n",
            "125/125 - 0s - loss: 0.1562 - val_loss: 0.1566\n",
            "Epoch 113/1000\n",
            "125/125 - 0s - loss: 0.1562 - val_loss: 0.1555\n",
            "Epoch 114/1000\n",
            "125/125 - 0s - loss: 0.1556 - val_loss: 0.1555\n",
            "Epoch 115/1000\n",
            "125/125 - 0s - loss: 0.1558 - val_loss: 0.1564\n",
            "Epoch 116/1000\n",
            "125/125 - 0s - loss: 0.1554 - val_loss: 0.1555\n",
            "Epoch 117/1000\n",
            "125/125 - 0s - loss: 0.1552 - val_loss: 0.1551\n",
            "Epoch 118/1000\n",
            "125/125 - 0s - loss: 0.1562 - val_loss: 0.1562\n",
            "Epoch 119/1000\n",
            "125/125 - 0s - loss: 0.1551 - val_loss: 0.1551\n",
            "Epoch 120/1000\n",
            "125/125 - 0s - loss: 0.1548 - val_loss: 0.1554\n",
            "Epoch 121/1000\n",
            "125/125 - 0s - loss: 0.1555 - val_loss: 0.1554\n",
            "Epoch 122/1000\n",
            "125/125 - 0s - loss: 0.1547 - val_loss: 0.1547\n",
            "Epoch 123/1000\n",
            "125/125 - 0s - loss: 0.1545 - val_loss: 0.1549\n",
            "Epoch 124/1000\n",
            "125/125 - 0s - loss: 0.1547 - val_loss: 0.1546\n",
            "Epoch 125/1000\n",
            "125/125 - 0s - loss: 0.1543 - val_loss: 0.1566\n",
            "Epoch 126/1000\n",
            "125/125 - 0s - loss: 0.1545 - val_loss: 0.1544\n",
            "Epoch 127/1000\n",
            "125/125 - 0s - loss: 0.1539 - val_loss: 0.1540\n",
            "Epoch 128/1000\n",
            "125/125 - 0s - loss: 0.1539 - val_loss: 0.1540\n",
            "Epoch 129/1000\n",
            "125/125 - 0s - loss: 0.1537 - val_loss: 0.1539\n",
            "Epoch 130/1000\n",
            "125/125 - 0s - loss: 0.1540 - val_loss: 0.1604\n",
            "Epoch 131/1000\n",
            "125/125 - 0s - loss: 0.1538 - val_loss: 0.1531\n",
            "Epoch 132/1000\n",
            "125/125 - 0s - loss: 0.1532 - val_loss: 0.1533\n",
            "Epoch 133/1000\n",
            "125/125 - 0s - loss: 0.1532 - val_loss: 0.1586\n",
            "Epoch 134/1000\n",
            "125/125 - 0s - loss: 0.1534 - val_loss: 0.1528\n",
            "Epoch 135/1000\n",
            "125/125 - 0s - loss: 0.1527 - val_loss: 0.1530\n",
            "Epoch 136/1000\n",
            "125/125 - 0s - loss: 0.1526 - val_loss: 0.1526\n",
            "Epoch 137/1000\n",
            "125/125 - 0s - loss: 0.1531 - val_loss: 0.1526\n",
            "Epoch 138/1000\n",
            "125/125 - 0s - loss: 0.1521 - val_loss: 0.1522\n",
            "Epoch 139/1000\n",
            "125/125 - 0s - loss: 0.1524 - val_loss: 0.1521\n",
            "Epoch 140/1000\n",
            "125/125 - 0s - loss: 0.1519 - val_loss: 0.1519\n",
            "Epoch 141/1000\n",
            "125/125 - 0s - loss: 0.1517 - val_loss: 0.1516\n",
            "Epoch 142/1000\n",
            "125/125 - 0s - loss: 0.1520 - val_loss: 0.1512\n",
            "Epoch 143/1000\n",
            "125/125 - 0s - loss: 0.1514 - val_loss: 0.1515\n",
            "Epoch 144/1000\n",
            "125/125 - 0s - loss: 0.1514 - val_loss: 0.1513\n",
            "Epoch 145/1000\n",
            "125/125 - 0s - loss: 0.1511 - val_loss: 0.1506\n",
            "Epoch 146/1000\n",
            "125/125 - 0s - loss: 0.1511 - val_loss: 0.1509\n",
            "Epoch 147/1000\n",
            "125/125 - 0s - loss: 0.1508 - val_loss: 0.1503\n",
            "Epoch 148/1000\n",
            "125/125 - 0s - loss: 0.1505 - val_loss: 0.1501\n",
            "Epoch 149/1000\n",
            "125/125 - 0s - loss: 0.1500 - val_loss: 0.1497\n",
            "Epoch 150/1000\n",
            "125/125 - 0s - loss: 0.1502 - val_loss: 0.1502\n",
            "Epoch 151/1000\n",
            "125/125 - 0s - loss: 0.1498 - val_loss: 0.1494\n",
            "Epoch 152/1000\n",
            "125/125 - 0s - loss: 0.1494 - val_loss: 0.1492\n",
            "Epoch 153/1000\n",
            "125/125 - 0s - loss: 0.1492 - val_loss: 0.1491\n",
            "Epoch 154/1000\n",
            "125/125 - 0s - loss: 0.1490 - val_loss: 0.1489\n",
            "Epoch 155/1000\n",
            "125/125 - 0s - loss: 0.1497 - val_loss: 0.1488\n",
            "Epoch 156/1000\n",
            "125/125 - 0s - loss: 0.1487 - val_loss: 0.1487\n",
            "Epoch 157/1000\n",
            "125/125 - 0s - loss: 0.1484 - val_loss: 0.1483\n",
            "Epoch 158/1000\n",
            "125/125 - 0s - loss: 0.1483 - val_loss: 0.1484\n",
            "Epoch 159/1000\n",
            "125/125 - 0s - loss: 0.1479 - val_loss: 0.1484\n",
            "Epoch 160/1000\n",
            "125/125 - 0s - loss: 0.1476 - val_loss: 0.1475\n",
            "Epoch 161/1000\n",
            "125/125 - 0s - loss: 0.1473 - val_loss: 0.1472\n",
            "Epoch 162/1000\n",
            "125/125 - 0s - loss: 0.1472 - val_loss: 0.1469\n",
            "Epoch 163/1000\n",
            "125/125 - 0s - loss: 0.1468 - val_loss: 0.1467\n",
            "Epoch 164/1000\n",
            "125/125 - 0s - loss: 0.1463 - val_loss: 0.1463\n",
            "Epoch 165/1000\n",
            "125/125 - 0s - loss: 0.1462 - val_loss: 0.1464\n",
            "Epoch 166/1000\n",
            "125/125 - 0s - loss: 0.1458 - val_loss: 0.1458\n",
            "Epoch 167/1000\n",
            "125/125 - 0s - loss: 0.1458 - val_loss: 0.1457\n",
            "Epoch 168/1000\n",
            "125/125 - 0s - loss: 0.1453 - val_loss: 0.1449\n",
            "Epoch 169/1000\n",
            "125/125 - 0s - loss: 0.1454 - val_loss: 0.1451\n",
            "Epoch 170/1000\n",
            "125/125 - 0s - loss: 0.1446 - val_loss: 0.1451\n",
            "Epoch 171/1000\n",
            "125/125 - 0s - loss: 0.1444 - val_loss: 0.1442\n",
            "Epoch 172/1000\n",
            "125/125 - 0s - loss: 0.1438 - val_loss: 0.1445\n",
            "Epoch 173/1000\n",
            "125/125 - 0s - loss: 0.1436 - val_loss: 0.1434\n",
            "Epoch 174/1000\n",
            "125/125 - 0s - loss: 0.1434 - val_loss: 0.1434\n",
            "Epoch 175/1000\n",
            "125/125 - 0s - loss: 0.1428 - val_loss: 0.1429\n",
            "Epoch 176/1000\n",
            "125/125 - 0s - loss: 0.1425 - val_loss: 0.1427\n",
            "Epoch 177/1000\n",
            "125/125 - 0s - loss: 0.1423 - val_loss: 0.1425\n",
            "Epoch 178/1000\n",
            "125/125 - 0s - loss: 0.1418 - val_loss: 0.1416\n",
            "Epoch 179/1000\n",
            "125/125 - 0s - loss: 0.1414 - val_loss: 0.1415\n",
            "Epoch 180/1000\n",
            "125/125 - 0s - loss: 0.1412 - val_loss: 0.1421\n",
            "Epoch 181/1000\n",
            "125/125 - 0s - loss: 0.1407 - val_loss: 0.1407\n",
            "Epoch 182/1000\n",
            "125/125 - 0s - loss: 0.1403 - val_loss: 0.1405\n",
            "Epoch 183/1000\n",
            "125/125 - 0s - loss: 0.1402 - val_loss: 0.1401\n",
            "Epoch 184/1000\n",
            "125/125 - 0s - loss: 0.1395 - val_loss: 0.1397\n",
            "Epoch 185/1000\n",
            "125/125 - 0s - loss: 0.1395 - val_loss: 0.1473\n",
            "Epoch 186/1000\n",
            "125/125 - 0s - loss: 0.1392 - val_loss: 0.1389\n",
            "Epoch 187/1000\n",
            "125/125 - 0s - loss: 0.1385 - val_loss: 0.1390\n",
            "Epoch 188/1000\n",
            "125/125 - 0s - loss: 0.1391 - val_loss: 0.1386\n",
            "Epoch 189/1000\n",
            "125/125 - 0s - loss: 0.1378 - val_loss: 0.1385\n",
            "Epoch 190/1000\n",
            "125/125 - 0s - loss: 0.1376 - val_loss: 0.1377\n",
            "Epoch 191/1000\n",
            "125/125 - 0s - loss: 0.1373 - val_loss: 0.1378\n",
            "Epoch 192/1000\n",
            "125/125 - 0s - loss: 0.1370 - val_loss: 0.1373\n",
            "Epoch 193/1000\n",
            "125/125 - 0s - loss: 0.1368 - val_loss: 0.1370\n",
            "Epoch 194/1000\n",
            "125/125 - 0s - loss: 0.1362 - val_loss: 0.1366\n",
            "Epoch 195/1000\n",
            "125/125 - 0s - loss: 0.1357 - val_loss: 0.1362\n",
            "Epoch 196/1000\n",
            "125/125 - 0s - loss: 0.1354 - val_loss: 0.1356\n",
            "Epoch 197/1000\n",
            "125/125 - 0s - loss: 0.1352 - val_loss: 0.1356\n",
            "Epoch 198/1000\n",
            "125/125 - 0s - loss: 0.1350 - val_loss: 0.1354\n",
            "Epoch 199/1000\n",
            "125/125 - 0s - loss: 0.1344 - val_loss: 0.1353\n",
            "Epoch 200/1000\n",
            "125/125 - 0s - loss: 0.1343 - val_loss: 0.1348\n",
            "Epoch 201/1000\n",
            "125/125 - 0s - loss: 0.1337 - val_loss: 0.1340\n",
            "Epoch 202/1000\n",
            "125/125 - 0s - loss: 0.1335 - val_loss: 0.1341\n",
            "Epoch 203/1000\n",
            "125/125 - 0s - loss: 0.1332 - val_loss: 0.1339\n",
            "Epoch 204/1000\n",
            "125/125 - 0s - loss: 0.1330 - val_loss: 0.1333\n",
            "Epoch 205/1000\n",
            "125/125 - 0s - loss: 0.1325 - val_loss: 0.1330\n",
            "Epoch 206/1000\n",
            "125/125 - 0s - loss: 0.1328 - val_loss: 0.1327\n",
            "Epoch 207/1000\n",
            "125/125 - 0s - loss: 0.1320 - val_loss: 0.1328\n",
            "Epoch 208/1000\n",
            "125/125 - 0s - loss: 0.1320 - val_loss: 0.1321\n",
            "Epoch 209/1000\n",
            "125/125 - 0s - loss: 0.1317 - val_loss: 0.1319\n",
            "Epoch 210/1000\n",
            "125/125 - 0s - loss: 0.1311 - val_loss: 0.1317\n",
            "Epoch 211/1000\n",
            "125/125 - 0s - loss: 0.1310 - val_loss: 0.1327\n",
            "Epoch 212/1000\n",
            "125/125 - 0s - loss: 0.1307 - val_loss: 0.1313\n",
            "Epoch 213/1000\n",
            "125/125 - 0s - loss: 0.1307 - val_loss: 0.1313\n",
            "Epoch 214/1000\n",
            "125/125 - 0s - loss: 0.1305 - val_loss: 0.1315\n",
            "Epoch 215/1000\n",
            "125/125 - 0s - loss: 0.1301 - val_loss: 0.1308\n",
            "Epoch 216/1000\n",
            "125/125 - 0s - loss: 0.1299 - val_loss: 0.1306\n",
            "Epoch 217/1000\n",
            "125/125 - 0s - loss: 0.1297 - val_loss: 0.1302\n",
            "Epoch 218/1000\n",
            "125/125 - 0s - loss: 0.1299 - val_loss: 0.1302\n",
            "Epoch 219/1000\n",
            "125/125 - 0s - loss: 0.1295 - val_loss: 0.1304\n",
            "Epoch 220/1000\n",
            "125/125 - 0s - loss: 0.1293 - val_loss: 0.1306\n",
            "Epoch 221/1000\n",
            "125/125 - 0s - loss: 0.1292 - val_loss: 0.1303\n",
            "Epoch 222/1000\n",
            "125/125 - 0s - loss: 0.1290 - val_loss: 0.1300\n",
            "Epoch 223/1000\n",
            "125/125 - 0s - loss: 0.1290 - val_loss: 0.1296\n",
            "Epoch 224/1000\n",
            "125/125 - 0s - loss: 0.1287 - val_loss: 0.1290\n",
            "Epoch 225/1000\n",
            "125/125 - 0s - loss: 0.1288 - val_loss: 0.1294\n",
            "Epoch 226/1000\n",
            "125/125 - 0s - loss: 0.1285 - val_loss: 0.1292\n",
            "Epoch 227/1000\n",
            "125/125 - 0s - loss: 0.1289 - val_loss: 0.1290\n",
            "Epoch 228/1000\n",
            "125/125 - 0s - loss: 0.1282 - val_loss: 0.1291\n",
            "Epoch 229/1000\n",
            "125/125 - 0s - loss: 0.1282 - val_loss: 0.1287\n",
            "Epoch 230/1000\n",
            "125/125 - 0s - loss: 0.1280 - val_loss: 0.1285\n",
            "Epoch 231/1000\n",
            "125/125 - 0s - loss: 0.1279 - val_loss: 0.1295\n",
            "Epoch 232/1000\n",
            "125/125 - 0s - loss: 0.1280 - val_loss: 0.1288\n",
            "Epoch 233/1000\n",
            "125/125 - 0s - loss: 0.1277 - val_loss: 0.1285\n",
            "Epoch 234/1000\n",
            "125/125 - 0s - loss: 0.1278 - val_loss: 0.1281\n",
            "Epoch 235/1000\n",
            "125/125 - 0s - loss: 0.1278 - val_loss: 0.1281\n",
            "Epoch 236/1000\n",
            "125/125 - 0s - loss: 0.1279 - val_loss: 0.1287\n",
            "Epoch 237/1000\n",
            "125/125 - 0s - loss: 0.1276 - val_loss: 0.1282\n",
            "Epoch 238/1000\n",
            "125/125 - 0s - loss: 0.1273 - val_loss: 0.1278\n",
            "Epoch 239/1000\n",
            "125/125 - 0s - loss: 0.1273 - val_loss: 0.1286\n",
            "Epoch 240/1000\n",
            "125/125 - 0s - loss: 0.1272 - val_loss: 0.1281\n",
            "Epoch 241/1000\n",
            "125/125 - 0s - loss: 0.1272 - val_loss: 0.1276\n",
            "Epoch 242/1000\n",
            "125/125 - 0s - loss: 0.1281 - val_loss: 0.1290\n",
            "Epoch 243/1000\n",
            "125/125 - 0s - loss: 0.1272 - val_loss: 0.1276\n",
            "Epoch 244/1000\n",
            "125/125 - 0s - loss: 0.1271 - val_loss: 0.1276\n",
            "Epoch 245/1000\n",
            "125/125 - 0s - loss: 0.1270 - val_loss: 0.1284\n",
            "Epoch 246/1000\n",
            "125/125 - 0s - loss: 0.1270 - val_loss: 0.1274\n",
            "Epoch 247/1000\n",
            "125/125 - 0s - loss: 0.1268 - val_loss: 0.1272\n",
            "Epoch 248/1000\n",
            "125/125 - 0s - loss: 0.1268 - val_loss: 0.1270\n",
            "Epoch 249/1000\n",
            "125/125 - 0s - loss: 0.1270 - val_loss: 0.1274\n",
            "Epoch 250/1000\n",
            "125/125 - 0s - loss: 0.1266 - val_loss: 0.1274\n",
            "Epoch 251/1000\n",
            "125/125 - 0s - loss: 0.1266 - val_loss: 0.1276\n",
            "Epoch 252/1000\n",
            "125/125 - 0s - loss: 0.1266 - val_loss: 0.1289\n",
            "Epoch 253/1000\n",
            "125/125 - 0s - loss: 0.1266 - val_loss: 0.1272\n",
            "Epoch 254/1000\n",
            "125/125 - 0s - loss: 0.1266 - val_loss: 0.1272\n",
            "Epoch 255/1000\n",
            "125/125 - 0s - loss: 0.1264 - val_loss: 0.1273\n",
            "Epoch 256/1000\n",
            "125/125 - 0s - loss: 0.1265 - val_loss: 0.1271\n",
            "Epoch 257/1000\n",
            "125/125 - 0s - loss: 0.1265 - val_loss: 0.1270\n",
            "Epoch 258/1000\n",
            "125/125 - 0s - loss: 0.1265 - val_loss: 0.1269\n",
            "Epoch 259/1000\n",
            "125/125 - 0s - loss: 0.1264 - val_loss: 0.1273\n",
            "Epoch 260/1000\n",
            "125/125 - 0s - loss: 0.1264 - val_loss: 0.1268\n",
            "Epoch 261/1000\n",
            "125/125 - 0s - loss: 0.1270 - val_loss: 0.1272\n",
            "Epoch 262/1000\n",
            "125/125 - 0s - loss: 0.1263 - val_loss: 0.1267\n",
            "Epoch 263/1000\n",
            "125/125 - 0s - loss: 0.1264 - val_loss: 0.1268\n",
            "Epoch 264/1000\n",
            "125/125 - 0s - loss: 0.1263 - val_loss: 0.1276\n",
            "Epoch 265/1000\n",
            "125/125 - 0s - loss: 0.1272 - val_loss: 0.1271\n",
            "Epoch 266/1000\n",
            "125/125 - 0s - loss: 0.1261 - val_loss: 0.1270\n",
            "Epoch 267/1000\n",
            "125/125 - 0s - loss: 0.1262 - val_loss: 0.1269\n",
            "Epoch 268/1000\n",
            "125/125 - 0s - loss: 0.1261 - val_loss: 0.1269\n",
            "Epoch 269/1000\n",
            "125/125 - 0s - loss: 0.1260 - val_loss: 0.1266\n",
            "Epoch 270/1000\n",
            "125/125 - 0s - loss: 0.1260 - val_loss: 0.1276\n",
            "Epoch 271/1000\n",
            "125/125 - 0s - loss: 0.1261 - val_loss: 0.1269\n",
            "Epoch 272/1000\n",
            "125/125 - 0s - loss: 0.1260 - val_loss: 0.1267\n",
            "Epoch 273/1000\n",
            "125/125 - 0s - loss: 0.1261 - val_loss: 0.1266\n",
            "Epoch 274/1000\n",
            "125/125 - 0s - loss: 0.1263 - val_loss: 0.1268\n",
            "Epoch 275/1000\n",
            "125/125 - 0s - loss: 0.1260 - val_loss: 0.1269\n",
            "Epoch 276/1000\n",
            "125/125 - 0s - loss: 0.1259 - val_loss: 0.1279\n",
            "Epoch 277/1000\n",
            "125/125 - 0s - loss: 0.1261 - val_loss: 0.1265\n",
            "Epoch 278/1000\n",
            "125/125 - 0s - loss: 0.1261 - val_loss: 0.1267\n",
            "Epoch 279/1000\n",
            "125/125 - 0s - loss: 0.1258 - val_loss: 0.1268\n",
            "Epoch 280/1000\n",
            "125/125 - 0s - loss: 0.1260 - val_loss: 0.1270\n",
            "Epoch 281/1000\n",
            "125/125 - 0s - loss: 0.1260 - val_loss: 0.1270\n",
            "Epoch 282/1000\n",
            "125/125 - 0s - loss: 0.1259 - val_loss: 0.1265\n",
            "Epoch 283/1000\n",
            "125/125 - 0s - loss: 0.1259 - val_loss: 0.1266\n",
            "Epoch 284/1000\n",
            "125/125 - 0s - loss: 0.1261 - val_loss: 0.1264\n",
            "Epoch 285/1000\n",
            "125/125 - 0s - loss: 0.1258 - val_loss: 0.1264\n",
            "Epoch 286/1000\n",
            "125/125 - 0s - loss: 0.1259 - val_loss: 0.1271\n",
            "Epoch 287/1000\n",
            "125/125 - 0s - loss: 0.1258 - val_loss: 0.1265\n",
            "Epoch 288/1000\n",
            "125/125 - 0s - loss: 0.1257 - val_loss: 0.1265\n",
            "Epoch 289/1000\n",
            "125/125 - 0s - loss: 0.1257 - val_loss: 0.1263\n",
            "Epoch 290/1000\n",
            "125/125 - 0s - loss: 0.1257 - val_loss: 0.1266\n",
            "Epoch 291/1000\n",
            "125/125 - 0s - loss: 0.1257 - val_loss: 0.1266\n",
            "Epoch 292/1000\n",
            "125/125 - 0s - loss: 0.1257 - val_loss: 0.1266\n",
            "Epoch 293/1000\n",
            "125/125 - 0s - loss: 0.1257 - val_loss: 0.1265\n",
            "Epoch 294/1000\n",
            "125/125 - 0s - loss: 0.1256 - val_loss: 0.1265\n",
            "Epoch 295/1000\n",
            "125/125 - 0s - loss: 0.1259 - val_loss: 0.1265\n",
            "Epoch 296/1000\n",
            "125/125 - 0s - loss: 0.1273 - val_loss: 0.1267\n",
            "Epoch 297/1000\n",
            "125/125 - 0s - loss: 0.1256 - val_loss: 0.1264\n",
            "Epoch 298/1000\n",
            "125/125 - 0s - loss: 0.1256 - val_loss: 0.1264\n",
            "Epoch 299/1000\n",
            "125/125 - 0s - loss: 0.1255 - val_loss: 0.1263\n"
          ],
          "name": "stdout"
        }
      ]
    },
    {
      "cell_type": "markdown",
      "metadata": {
        "id": "x85n3tbEHIJx"
      },
      "source": [
        "\n",
        "# `グラフ表示`"
      ]
    },
    {
      "cell_type": "code",
      "metadata": {
        "id": "CyhXc8FJueE0",
        "colab": {
          "base_uri": "https://localhost:8080/",
          "height": 279
        },
        "outputId": "b9a8ef6c-dd12-45b1-bb15-cc0094a130bc"
      },
      "source": [
        "# plt.plot(history.history['acc'])\n",
        "# plt.plot(history.history['val_acc'])\n",
        "# plt.title('Model accuracy')\n",
        "# plt.ylabel('Accuracy')\n",
        "plt.plot(history.history['loss'])\n",
        "plt.plot(history.history['val_loss'])\n",
        "plt.xlabel('Epoch')\n",
        "plt.grid()\n",
        "plt.legend(['Train', 'Validation'], loc='upper left')\n",
        "plt.show()"
      ],
      "execution_count": null,
      "outputs": [
        {
          "output_type": "display_data",
          "data": {
            "image/png": "[encoded data removed]",
            "text/plain": [
              "<Figure size 432x288 with 1 Axes>"
            ]
          },
          "metadata": {
            "tags": [],
            "needs_background": "light"
          }
        }
      ]
    },
    {
      "cell_type": "markdown",
      "metadata": {
        "id": "vms7jxcU8xJQ"
      },
      "source": [
        "# 推論"
      ]
    },
    {
      "cell_type": "code",
      "metadata": {
        "id": "vQZLksvW8zbH"
      },
      "source": [
        "test_X, test_Y = create_datas(100)\n",
        "\n",
        "predict = model.predict(test_X)"
      ],
      "execution_count": null,
      "outputs": []
    },
    {
      "cell_type": "code",
      "metadata": {
        "colab": {
          "base_uri": "https://localhost:8080/"
        },
        "id": "hUDmszIa-aXN",
        "outputId": "58c3546e-5c2c-4189-d7a9-4342d1265efe"
      },
      "source": [
        "predict = np.reshape(predict,(100,8))\n",
        "test_Y = np.reshape(test_Y,(100,8))\n",
        "\n",
        "print(\"predct.shape=\",predict.shape)\n",
        "print(\"test_Y.shape=\",test_Y.shape)\n",
        "\n",
        "\n",
        "MAE = np.sum(np.abs(predict-test_Y))\n",
        "\n",
        "print(MAE)"
      ],
      "execution_count": null,
      "outputs": [
        {
          "output_type": "stream",
          "text": [
            "predct.shape= (100, 8)\n",
            "test_Y.shape= (100, 8)\n",
            "204.75937201987546\n"
          ],
          "name": "stdout"
        }
      ]
    },
    {
      "cell_type": "markdown",
      "metadata": {
        "id": "v8AH400idpTk"
      },
      "source": [
        "# 終わり"
      ]
    },
    {
      "cell_type": "code",
      "metadata": {
        "id": "bdBIu4za5umf",
        "colab": {
          "base_uri": "https://localhost:8080/"
        },
        "outputId": "0c6a509f-af76-4385-a42d-b24a3486cedd"
      },
      "source": [
        "#終了時刻\n",
        "finish_time = datetime.datetime.now(datetime.timezone(datetime.timedelta(hours=9)))\n",
        "print(\"finish_time=\",finish_time)\n",
        "print(\"total_time=\",finish_time-start_time)\n"
      ],
      "execution_count": null,
      "outputs": [
        {
          "output_type": "stream",
          "text": [
            "finish_time= 2021-05-07 07:26:47.158643+09:00\n",
            "total_time= 0:02:22.011098\n"
          ],
          "name": "stdout"
        }
      ]
    }
  ]
}