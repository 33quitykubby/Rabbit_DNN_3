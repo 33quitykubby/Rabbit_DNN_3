{
  "nbformat": 4,
  "nbformat_minor": 0,
  "metadata": {
    "colab": {
      "name": "Rabbit_RNN_4_simple_GRU.ipynb",
      "provenance": [],
      "collapsed_sections": [],
      "toc_visible": true,
      "include_colab_link": true
    },
    "kernelspec": {
      "display_name": "Python 3",
      "name": "python3"
    }
  },
  "cells": [
    {
      "cell_type": "markdown",
      "metadata": {
        "id": "view-in-github",
        "colab_type": "text"
      },
      "source": [
        "<a href=\"https://colab.research.google.com/github/33quitykubby/Rabbit_DNN_3/blob/main/Rabbit_RNN_4_simple_GRU.ipynb\" target=\"_parent\"><img src=\"https://colab.research.google.com/assets/colab-badge.svg\" alt=\"Open In Colab\"/></a>"
      ]
    },
    {
      "cell_type": "markdown",
      "metadata": {
        "id": "ndo0gsKs29oE"
      },
      "source": [
        "# GRU\n",
        "\n",
        "サンプルコード3_1_simple_RNN_after.ipynb  \n",
        "上記同様に8bit演算の推測を行う  \n",
        "kerasで実装する"
      ]
    },
    {
      "cell_type": "markdown",
      "metadata": {
        "id": "aFawz7zCioGw"
      },
      "source": [
        "# 日本時間にする"
      ]
    },
    {
      "cell_type": "code",
      "metadata": {
        "colab": {
          "base_uri": "https://localhost:8080/"
        },
        "id": "Qqk7xVQXilAv",
        "outputId": "56cf1a50-5d21-4518-d3d9-1800bfece296"
      },
      "source": [
        "  !rm /etc/localtime\n",
        "  !ln -s /usr/share/zoneinfo/Asia/Tokyo /etc/localtime\n",
        "  !date"
      ],
      "execution_count": null,
      "outputs": [
        {
          "output_type": "stream",
          "text": [
            "Fri May  7 07:20:18 JST 2021\n"
          ],
          "name": "stdout"
        }
      ]
    },
    {
      "cell_type": "markdown",
      "metadata": {
        "id": "0XSgZcpT4tkC"
      },
      "source": [
        "# ライブラリのインポート"
      ]
    },
    {
      "cell_type": "code",
      "metadata": {
        "id": "9hlcGt_j4tkD"
      },
      "source": [
        "import pandas as pd\n",
        "import numpy as np\n",
        "\n",
        "from matplotlib import pyplot as plt\n",
        "%matplotlib inline\n",
        "\n",
        "import os\n",
        "import glob\n",
        "\n",
        "import librosa\n",
        "\n",
        "import datetime\n",
        "\n",
        "import gc\n",
        "\n",
        "from sklearn.datasets import load_boston\n",
        "from pandas import DataFrame"
      ],
      "execution_count": null,
      "outputs": []
    },
    {
      "cell_type": "code",
      "metadata": {
        "colab": {
          "base_uri": "https://localhost:8080/"
        },
        "id": "l3Kfi-5YVRYV",
        "outputId": "e6b33db1-73c1-4a5f-deeb-41a4709340b4"
      },
      "source": [
        "#開始時刻\n",
        "start_time = datetime.datetime.now(datetime.timezone(datetime.timedelta(hours=9)))\n",
        "print(\"start_time=\",start_time)"
      ],
      "execution_count": null,
      "outputs": [
        {
          "output_type": "stream",
          "text": [
            "start_time= 2021-05-07 07:20:22.136808+09:00\n"
          ],
          "name": "stdout"
        }
      ]
    },
    {
      "cell_type": "markdown",
      "metadata": {
        "id": "UdzrJm_XYr17"
      },
      "source": [
        "# 乱数シードの初期化\n",
        "\n",
        "\n",
        "\n",
        "\n"
      ]
    },
    {
      "cell_type": "code",
      "metadata": {
        "id": "wNUHyFvYF1_Z"
      },
      "source": [
        "import os \n",
        "import numpy as np\n",
        "from sklearn import model_selection\n",
        "import tensorflow as tf\n",
        "import random\n",
        "\n",
        "COMMON_SEED = 0\n",
        "STANDARD_SEED = 0\n",
        "NP_SEED = 0\n",
        "TF_SEED = 0 \n",
        "\n",
        "# np.random.seed(STANDARD_SEED)\n",
        "# random.seed(NP_SEED)\n",
        "# tf.random.set_seed(TF_SEED)\n",
        "\n",
        "def seed_everything():\n",
        "    random.seed(STANDARD_SEED)\n",
        "    os.environ['PYTHONHASHSEED'] = str(COMMON_SEED)\n",
        "    os.environ['TF_DETERMINISTIC_OPS'] = '1'\n",
        "    os.environ['TF_CUDNN_DETERMINISTIC'] = '1'\n",
        "    np.random.seed(NP_SEED)\n",
        "    tf.random.set_seed(TF_SEED)\n",
        "    session_conf = tf.compat.v1.ConfigProto(\n",
        "        intra_op_parallelism_threads=1,\n",
        "        inter_op_parallelism_threads=1\n",
        "    )\n",
        "    sess = tf.compat.v1.Session(graph=tf.compat.v1.get_default_graph(), config=session_conf)\n",
        "    tf.compat.v1.keras.backend.set_session(sess)\n"
      ],
      "execution_count": null,
      "outputs": []
    },
    {
      "cell_type": "code",
      "metadata": {
        "id": "9AOmh1f2uhww"
      },
      "source": [
        "#乱数シード固定\n",
        "\n",
        "seed_everything()"
      ],
      "execution_count": null,
      "outputs": []
    },
    {
      "cell_type": "markdown",
      "metadata": {
        "id": "kJCupj3PTDaz"
      },
      "source": [
        "# デバッグプリント"
      ]
    },
    {
      "cell_type": "code",
      "metadata": {
        "id": "Tjg6IOY1SvJZ"
      },
      "source": [
        "DEBUG = False\n",
        "\n",
        "def debugPrint(str, debug=True):\n",
        "  if debug :\n",
        "    print(str)"
      ],
      "execution_count": null,
      "outputs": []
    },
    {
      "cell_type": "markdown",
      "metadata": {
        "id": "oXXh5d_gKCxM"
      },
      "source": [
        "# 共通クラス"
      ]
    },
    {
      "cell_type": "markdown",
      "metadata": {
        "id": "7e8hyPJMKVyM"
      },
      "source": [
        "# 共通関数"
      ]
    },
    {
      "cell_type": "markdown",
      "metadata": {
        "id": "c2Ke8jDeO7v-"
      },
      "source": [
        "# データ準備"
      ]
    },
    {
      "cell_type": "markdown",
      "metadata": {
        "id": "XnJTqv3eP0yE"
      },
      "source": [
        "## 入力データ準備\n",
        "\n",
        "8桁の2進数を生成"
      ]
    },
    {
      "cell_type": "code",
      "metadata": {
        "colab": {
          "base_uri": "https://localhost:8080/"
        },
        "id": "Qw5I0da-O-5A",
        "outputId": "a843e178-8518-4228-c6cb-e46e0c65899c"
      },
      "source": [
        "#データ準備\n",
        "#2進数の桁数\n",
        "binary_dim = 8\n",
        "\n",
        "#最大値+1\n",
        "largest_number = pow(2, binary_dim)\n",
        "print(\"largest_number=\",largest_number)\n",
        "\n",
        "#largest_numberまでの2進数を容易\n",
        "binary = np.unpackbits(np.array([range(largest_number)],dtype=np.uint8).T,axis=1)\n",
        "print(\"binary=\",binary)\n",
        "print(\"binary.shape=\",binary.shape)\n"
      ],
      "execution_count": null,
      "outputs": [
        {
          "output_type": "stream",
          "text": [
            "largest_number= 256\n",
            "binary= [[0 0 0 ... 0 0 0]\n",
            " [0 0 0 ... 0 0 1]\n",
            " [0 0 0 ... 0 1 0]\n",
            " ...\n",
            " [1 1 1 ... 1 0 1]\n",
            " [1 1 1 ... 1 1 0]\n",
            " [1 1 1 ... 1 1 1]]\n",
            "binary.shape= (256, 8)\n"
          ],
          "name": "stdout"
        }
      ]
    },
    {
      "cell_type": "code",
      "metadata": {
        "colab": {
          "base_uri": "https://localhost:8080/"
        },
        "id": "JQ5pKchDwuDq",
        "outputId": "94e688b0-3133-479f-fa1d-ed453b398249"
      },
      "source": [
        "iters_num = 10000\n",
        "# DEBUG = True\n",
        "\n",
        "def create_datas(iters_num):\n",
        "  c1 = np.empty((0,2,8),float)\n",
        "  d1 = np.empty((0,8), float)\n",
        "\n",
        "  # arr = np.append(arr, np.array([1, 2, 3]))\n",
        "\n",
        "  for i in range(iters_num):\n",
        "\n",
        "    a1 = np.empty((0,8), float)\n",
        "    b1 = np.empty((0,8), float)\n",
        "\n",
        "    # a + b = d\n",
        "    a_int = np.random.randint(largest_number/2)\n",
        "    a_bin = binary[a_int] # binary_encoding\n",
        "    b_int = np.random.randint(largest_number/2)\n",
        "    b_bin = binary[b_int] # binary_encoding\n",
        "\n",
        "    a1 = np.append(a1, [a_bin], axis=0)\n",
        "    b1 = np.append(b1, [b_bin], axis=0)\n",
        "\n",
        "    tmp = a1.copy()\n",
        "    tmp = np.append(tmp, b1, axis=0)\n",
        "    tmp = tmp.transpose()\n",
        "    c1 = np.append(c1,tmp)\n",
        "    # print(tmp)\n",
        "    # print(\"--------------\")\n",
        "    # print(c1)\n",
        "    # print(\"--------------\")\n",
        "\n",
        "    # 正解データ\n",
        "    d_int = a_int + b_int\n",
        "    d_bin = binary[d_int]\n",
        "\n",
        "    d1 = np.append(d1, [d_bin], axis=0)\n",
        "\n",
        "    debugPrint(\"a:{}/{}\".format(a_bin,a_int),DEBUG)\n",
        "    debugPrint(\"b:{}/{}\".format(b_bin,b_int),DEBUG)\n",
        "    debugPrint(\"d:{}/{}\".format(d_bin,d_int),DEBUG)\n",
        "\n",
        "  c1 = np.reshape(c1, (-1, 8, 2))\n",
        "  d1 = np.reshape(d1, (-1, 8, 1))\n",
        "\n",
        "  return c1, d1\n",
        "\n",
        "c1, d1 = create_datas(iters_num)\n",
        "\n",
        "print(c1[1][1][1])\n",
        "print(c1.shape)\n",
        "\n",
        "print(d1[1][1])\n",
        "print(d1.shape)"
      ],
      "execution_count": null,
      "outputs": [
        {
          "output_type": "stream",
          "text": [
            "1.0\n",
            "(10000, 8, 2)\n",
            "[0.]\n",
            "(10000, 8, 1)\n"
          ],
          "name": "stdout"
        }
      ]
    },
    {
      "cell_type": "markdown",
      "metadata": {
        "id": "0SP7HEOMQnC3"
      },
      "source": [
        "## モデル初期値定義"
      ]
    },
    {
      "cell_type": "code",
      "metadata": {
        "id": "R6gm2vToQU-9"
      },
      "source": [
        "input_layer_size = 2\n",
        "hidden_layer_size = 32\n",
        "output_layer_size = 1\n"
      ],
      "execution_count": null,
      "outputs": []
    },
    {
      "cell_type": "markdown",
      "metadata": {
        "id": "5xh6lRZ4O2Ph"
      },
      "source": [
        "# GRU"
      ]
    },
    {
      "cell_type": "code",
      "metadata": {
        "id": "qN3T1KHmO48i"
      },
      "source": [
        "from tensorflow.keras.models import Sequential\n",
        "from tensorflow.keras.layers import Dense, Activation\n",
        "from tensorflow.keras.layers import GRU\n",
        "from tensorflow.keras.optimizers import Adam\n",
        "from tensorflow.keras.callbacks import EarlyStopping"
      ],
      "execution_count": null,
      "outputs": []
    },
    {
      "cell_type": "markdown",
      "metadata": {
        "id": "WkRgNMfR2i_m"
      },
      "source": [
        "## テストデータ作成"
      ]
    },
    {
      "cell_type": "code",
      "metadata": {
        "colab": {
          "base_uri": "https://localhost:8080/"
        },
        "id": "qhNfdZA_1YVm",
        "outputId": "e2ce1e8f-63ac-490a-b246-10a29ccceb54"
      },
      "source": [
        "length = c1.shape[0]\n",
        "print(\"length=\",length)\n",
        "\n",
        "train_X = c1[:int(length*0.8),:,:]\n",
        "print(\"trainX.shape=\",train_X.shape)\n",
        "\n",
        "val_X = c1[int(length*0.8):,:,:]\n",
        "print(\"valX.shape=\",val_X.shape)\n",
        "\n",
        "train_Y = d1[:int(length*0.8),:,:]\n",
        "print(\"trainY.shape=\",train_Y.shape)\n",
        "\n",
        "val_Y = d1[int(length*0.8):,:,:]\n",
        "print(\"valY.shape=\",val_Y.shape)\n",
        "\n"
      ],
      "execution_count": null,
      "outputs": [
        {
          "output_type": "stream",
          "text": [
            "length= 10000\n",
            "trainX.shape= (8000, 8, 2)\n",
            "valX.shape= (2000, 8, 2)\n",
            "trainY.shape= (8000, 8, 1)\n",
            "valY.shape= (2000, 8, 1)\n"
          ],
          "name": "stdout"
        }
      ]
    },
    {
      "cell_type": "markdown",
      "metadata": {
        "id": "I5pVQLZ32mZ2"
      },
      "source": [
        "## モデル定義"
      ]
    },
    {
      "cell_type": "code",
      "metadata": {
        "id": "3oIIGl8MPAok"
      },
      "source": [
        "model = Sequential()\n",
        "\n",
        "batch_input_shape_temp = (None, binary_dim, input_layer_size)\n",
        "\n",
        "model.add(GRU(hidden_layer_size, go_backwards=True, return_sequences=True, batch_input_shape=batch_input_shape_temp ))\n",
        "\n",
        "model.add(Dense(output_layer_size))\n",
        "\n",
        "model.add(Activation(\"sigmoid\"))\n",
        "\n",
        "optimizer = Adam(lr=0.001, decay=1e-7)\n",
        "\n",
        "model.compile(loss=\"mean_squared_error\", optimizer=optimizer)\n",
        "\n",
        "early_stopping = EarlyStopping(monitor='val_loss', mode='auto', patience=10)\n"
      ],
      "execution_count": null,
      "outputs": []
    },
    {
      "cell_type": "markdown",
      "metadata": {
        "id": "I_wYxZU02qFv"
      },
      "source": [
        "## 学習"
      ]
    },
    {
      "cell_type": "code",
      "metadata": {
        "colab": {
          "base_uri": "https://localhost:8080/"
        },
        "id": "CC6paJxcQvhh",
        "outputId": "beb9af58-fa02-4668-b627-692707110b00"
      },
      "source": [
        "EPOCH = 1000\n",
        "batch_size = 64\n",
        "\n",
        "history = model.fit(\n",
        "                    # x=train_X, \n",
        "                    # y=train_Y, \n",
        "                    # # validation_data=(val_X, val_Y), \n",
        "                    x = c1,\n",
        "                    y = d1,\n",
        "                    validation_split=0.2,\n",
        "                    epochs=EPOCH, \n",
        "                    callbacks=early_stopping, \n",
        "                    batch_size=64, \n",
        "                    verbose=2)\n",
        "\n"
      ],
      "execution_count": null,
      "outputs": [
        {
          "output_type": "stream",
          "text": [
            "Epoch 1/1000\n",
            "125/125 - 3s - loss: 0.2505 - val_loss: 0.2499\n",
            "Epoch 2/1000\n",
            "125/125 - 0s - loss: 0.2500 - val_loss: 0.2500\n",
            "Epoch 3/1000\n",
            "125/125 - 0s - loss: 0.2499 - val_loss: 0.2498\n",
            "Epoch 4/1000\n",
            "125/125 - 0s - loss: 0.2498 - val_loss: 0.2496\n",
            "Epoch 5/1000\n",
            "125/125 - 0s - loss: 0.2420 - val_loss: 0.2283\n",
            "Epoch 6/1000\n",
            "125/125 - 0s - loss: 0.2270 - val_loss: 0.2223\n",
            "Epoch 7/1000\n",
            "125/125 - 0s - loss: 0.2191 - val_loss: 0.2186\n",
            "Epoch 8/1000\n",
            "125/125 - 0s - loss: 0.2166 - val_loss: 0.2159\n",
            "Epoch 9/1000\n",
            "125/125 - 0s - loss: 0.2151 - val_loss: 0.2169\n",
            "Epoch 10/1000\n",
            "125/125 - 0s - loss: 0.2142 - val_loss: 0.2130\n",
            "Epoch 11/1000\n",
            "125/125 - 0s - loss: 0.2126 - val_loss: 0.2121\n",
            "Epoch 12/1000\n",
            "125/125 - 0s - loss: 0.2119 - val_loss: 0.2130\n",
            "Epoch 13/1000\n",
            "125/125 - 0s - loss: 0.2109 - val_loss: 0.2104\n",
            "Epoch 14/1000\n",
            "125/125 - 0s - loss: 0.2102 - val_loss: 0.2102\n",
            "Epoch 15/1000\n",
            "125/125 - 0s - loss: 0.2090 - val_loss: 0.2089\n",
            "Epoch 16/1000\n",
            "125/125 - 0s - loss: 0.2077 - val_loss: 0.2084\n",
            "Epoch 17/1000\n",
            "125/125 - 0s - loss: 0.2065 - val_loss: 0.2067\n",
            "Epoch 18/1000\n",
            "125/125 - 0s - loss: 0.2051 - val_loss: 0.2076\n",
            "Epoch 19/1000\n",
            "125/125 - 0s - loss: 0.2045 - val_loss: 0.2056\n",
            "Epoch 20/1000\n",
            "125/125 - 0s - loss: 0.2033 - val_loss: 0.2036\n",
            "Epoch 21/1000\n",
            "125/125 - 0s - loss: 0.2021 - val_loss: 0.2027\n",
            "Epoch 22/1000\n",
            "125/125 - 0s - loss: 0.2007 - val_loss: 0.2008\n",
            "Epoch 23/1000\n",
            "125/125 - 0s - loss: 0.1999 - val_loss: 0.1998\n",
            "Epoch 24/1000\n",
            "125/125 - 0s - loss: 0.1989 - val_loss: 0.2008\n",
            "Epoch 25/1000\n",
            "125/125 - 0s - loss: 0.1989 - val_loss: 0.1976\n",
            "Epoch 26/1000\n",
            "125/125 - 0s - loss: 0.1980 - val_loss: 0.2071\n",
            "Epoch 27/1000\n",
            "125/125 - 0s - loss: 0.1970 - val_loss: 0.1964\n",
            "Epoch 28/1000\n",
            "125/125 - 0s - loss: 0.1967 - val_loss: 0.1954\n",
            "Epoch 29/1000\n",
            "125/125 - 0s - loss: 0.1948 - val_loss: 0.1938\n",
            "Epoch 30/1000\n",
            "125/125 - 0s - loss: 0.1937 - val_loss: 0.1975\n",
            "Epoch 31/1000\n",
            "125/125 - 0s - loss: 0.1932 - val_loss: 0.1917\n",
            "Epoch 32/1000\n",
            "125/125 - 0s - loss: 0.1915 - val_loss: 0.1916\n",
            "Epoch 33/1000\n",
            "125/125 - 0s - loss: 0.1907 - val_loss: 0.1893\n",
            "Epoch 34/1000\n",
            "125/125 - 0s - loss: 0.1897 - val_loss: 0.1880\n",
            "Epoch 35/1000\n",
            "125/125 - 0s - loss: 0.1896 - val_loss: 0.1877\n",
            "Epoch 36/1000\n",
            "125/125 - 0s - loss: 0.1875 - val_loss: 0.1881\n",
            "Epoch 37/1000\n",
            "125/125 - 0s - loss: 0.1873 - val_loss: 0.1896\n",
            "Epoch 38/1000\n",
            "125/125 - 1s - loss: 0.1862 - val_loss: 0.1862\n",
            "Epoch 39/1000\n",
            "125/125 - 0s - loss: 0.1864 - val_loss: 0.1846\n",
            "Epoch 40/1000\n",
            "125/125 - 0s - loss: 0.1850 - val_loss: 0.1841\n",
            "Epoch 41/1000\n",
            "125/125 - 1s - loss: 0.1847 - val_loss: 0.1852\n",
            "Epoch 42/1000\n",
            "125/125 - 0s - loss: 0.1880 - val_loss: 0.1836\n",
            "Epoch 43/1000\n",
            "125/125 - 0s - loss: 0.1829 - val_loss: 0.1826\n",
            "Epoch 44/1000\n",
            "125/125 - 0s - loss: 0.1823 - val_loss: 0.1828\n",
            "Epoch 45/1000\n",
            "125/125 - 0s - loss: 0.1826 - val_loss: 0.1821\n",
            "Epoch 46/1000\n",
            "125/125 - 0s - loss: 0.1829 - val_loss: 0.1824\n",
            "Epoch 47/1000\n",
            "125/125 - 0s - loss: 0.1810 - val_loss: 0.1805\n",
            "Epoch 48/1000\n",
            "125/125 - 0s - loss: 0.1805 - val_loss: 0.1804\n",
            "Epoch 49/1000\n",
            "125/125 - 0s - loss: 0.1802 - val_loss: 0.1797\n",
            "Epoch 50/1000\n",
            "125/125 - 0s - loss: 0.1841 - val_loss: 0.2425\n",
            "Epoch 51/1000\n",
            "125/125 - 0s - loss: 0.1898 - val_loss: 0.1824\n",
            "Epoch 52/1000\n",
            "125/125 - 0s - loss: 0.1811 - val_loss: 0.1793\n",
            "Epoch 53/1000\n",
            "125/125 - 0s - loss: 0.1789 - val_loss: 0.1781\n",
            "Epoch 54/1000\n",
            "125/125 - 0s - loss: 0.1779 - val_loss: 0.1774\n",
            "Epoch 55/1000\n",
            "125/125 - 0s - loss: 0.1773 - val_loss: 0.1768\n",
            "Epoch 56/1000\n",
            "125/125 - 0s - loss: 0.1766 - val_loss: 0.1763\n",
            "Epoch 57/1000\n",
            "125/125 - 0s - loss: 0.1769 - val_loss: 0.1788\n",
            "Epoch 58/1000\n",
            "125/125 - 0s - loss: 0.1761 - val_loss: 0.1751\n",
            "Epoch 59/1000\n",
            "125/125 - 0s - loss: 0.1754 - val_loss: 0.1750\n",
            "Epoch 60/1000\n",
            "125/125 - 0s - loss: 0.1748 - val_loss: 0.1745\n",
            "Epoch 61/1000\n",
            "125/125 - 0s - loss: 0.1749 - val_loss: 0.1745\n",
            "Epoch 62/1000\n",
            "125/125 - 1s - loss: 0.1735 - val_loss: 0.1733\n",
            "Epoch 63/1000\n",
            "125/125 - 0s - loss: 0.1753 - val_loss: 0.1727\n",
            "Epoch 64/1000\n",
            "125/125 - 0s - loss: 0.1727 - val_loss: 0.1726\n",
            "Epoch 65/1000\n",
            "125/125 - 0s - loss: 0.1728 - val_loss: 0.1724\n",
            "Epoch 66/1000\n",
            "125/125 - 0s - loss: 0.1717 - val_loss: 0.1710\n",
            "Epoch 67/1000\n",
            "125/125 - 0s - loss: 0.1711 - val_loss: 0.1729\n",
            "Epoch 68/1000\n",
            "125/125 - 0s - loss: 0.1737 - val_loss: 0.1717\n",
            "Epoch 69/1000\n",
            "125/125 - 0s - loss: 0.1706 - val_loss: 0.1721\n",
            "Epoch 70/1000\n",
            "125/125 - 0s - loss: 0.1695 - val_loss: 0.1694\n",
            "Epoch 71/1000\n",
            "125/125 - 0s - loss: 0.1690 - val_loss: 0.1686\n",
            "Epoch 72/1000\n",
            "125/125 - 0s - loss: 0.1684 - val_loss: 0.1680\n",
            "Epoch 73/1000\n",
            "125/125 - 1s - loss: 0.1692 - val_loss: 0.1709\n",
            "Epoch 74/1000\n",
            "125/125 - 0s - loss: 0.1675 - val_loss: 0.1671\n",
            "Epoch 75/1000\n",
            "125/125 - 0s - loss: 0.1667 - val_loss: 0.1665\n",
            "Epoch 76/1000\n",
            "125/125 - 0s - loss: 0.1665 - val_loss: 0.1673\n",
            "Epoch 77/1000\n",
            "125/125 - 0s - loss: 0.1655 - val_loss: 0.1651\n",
            "Epoch 78/1000\n",
            "125/125 - 0s - loss: 0.1656 - val_loss: 0.1645\n",
            "Epoch 79/1000\n",
            "125/125 - 0s - loss: 0.1642 - val_loss: 0.1636\n",
            "Epoch 80/1000\n",
            "125/125 - 0s - loss: 0.1640 - val_loss: 0.1637\n",
            "Epoch 81/1000\n",
            "125/125 - 0s - loss: 0.1635 - val_loss: 0.1629\n",
            "Epoch 82/1000\n",
            "125/125 - 0s - loss: 0.1635 - val_loss: 0.1626\n",
            "Epoch 83/1000\n",
            "125/125 - 0s - loss: 0.1620 - val_loss: 0.1619\n",
            "Epoch 84/1000\n",
            "125/125 - 0s - loss: 0.1613 - val_loss: 0.1608\n",
            "Epoch 85/1000\n",
            "125/125 - 0s - loss: 0.1610 - val_loss: 0.1609\n",
            "Epoch 86/1000\n",
            "125/125 - 0s - loss: 0.1607 - val_loss: 0.1618\n",
            "Epoch 87/1000\n",
            "125/125 - 0s - loss: 0.1640 - val_loss: 0.1601\n",
            "Epoch 88/1000\n",
            "125/125 - 0s - loss: 0.1597 - val_loss: 0.1593\n",
            "Epoch 89/1000\n",
            "125/125 - 0s - loss: 0.1594 - val_loss: 0.1590\n",
            "Epoch 90/1000\n",
            "125/125 - 0s - loss: 0.1588 - val_loss: 0.1584\n",
            "Epoch 91/1000\n",
            "125/125 - 0s - loss: 0.1585 - val_loss: 0.1581\n",
            "Epoch 92/1000\n",
            "125/125 - 0s - loss: 0.1587 - val_loss: 0.1583\n",
            "Epoch 93/1000\n",
            "125/125 - 0s - loss: 0.1604 - val_loss: 0.1575\n",
            "Epoch 94/1000\n",
            "125/125 - 0s - loss: 0.1575 - val_loss: 0.1570\n",
            "Epoch 95/1000\n",
            "125/125 - 0s - loss: 0.1571 - val_loss: 0.1567\n",
            "Epoch 96/1000\n",
            "125/125 - 0s - loss: 0.1601 - val_loss: 0.1566\n",
            "Epoch 97/1000\n",
            "125/125 - 0s - loss: 0.1564 - val_loss: 0.1561\n",
            "Epoch 98/1000\n",
            "125/125 - 0s - loss: 0.1562 - val_loss: 0.1558\n",
            "Epoch 99/1000\n",
            "125/125 - 0s - loss: 0.1556 - val_loss: 0.1556\n",
            "Epoch 100/1000\n",
            "125/125 - 0s - loss: 0.1574 - val_loss: 0.1553\n",
            "Epoch 101/1000\n",
            "125/125 - 0s - loss: 0.1552 - val_loss: 0.1552\n",
            "Epoch 102/1000\n",
            "125/125 - 0s - loss: 0.1547 - val_loss: 0.1547\n",
            "Epoch 103/1000\n",
            "125/125 - 0s - loss: 0.1550 - val_loss: 0.1548\n",
            "Epoch 104/1000\n",
            "125/125 - 0s - loss: 0.1544 - val_loss: 0.1542\n",
            "Epoch 105/1000\n",
            "125/125 - 0s - loss: 0.1537 - val_loss: 0.1535\n",
            "Epoch 106/1000\n",
            "125/125 - 0s - loss: 0.1532 - val_loss: 0.1535\n",
            "Epoch 107/1000\n",
            "125/125 - 0s - loss: 0.1532 - val_loss: 0.1529\n",
            "Epoch 108/1000\n",
            "125/125 - 0s - loss: 0.1580 - val_loss: 0.1651\n",
            "Epoch 109/1000\n",
            "125/125 - 0s - loss: 0.1536 - val_loss: 0.1523\n",
            "Epoch 110/1000\n",
            "125/125 - 0s - loss: 0.1520 - val_loss: 0.1527\n",
            "Epoch 111/1000\n",
            "125/125 - 0s - loss: 0.1519 - val_loss: 0.1518\n",
            "Epoch 112/1000\n",
            "125/125 - 0s - loss: 0.1513 - val_loss: 0.1515\n",
            "Epoch 113/1000\n",
            "125/125 - 0s - loss: 0.1510 - val_loss: 0.1511\n",
            "Epoch 114/1000\n",
            "125/125 - 0s - loss: 0.1512 - val_loss: 0.1527\n",
            "Epoch 115/1000\n",
            "125/125 - 0s - loss: 0.1503 - val_loss: 0.1503\n",
            "Epoch 116/1000\n",
            "125/125 - 0s - loss: 0.1540 - val_loss: 0.1827\n",
            "Epoch 117/1000\n",
            "125/125 - 0s - loss: 0.1551 - val_loss: 0.1500\n",
            "Epoch 118/1000\n",
            "125/125 - 0s - loss: 0.1493 - val_loss: 0.1496\n",
            "Epoch 119/1000\n",
            "125/125 - 0s - loss: 0.1489 - val_loss: 0.1496\n",
            "Epoch 120/1000\n",
            "125/125 - 0s - loss: 0.1484 - val_loss: 0.1491\n",
            "Epoch 121/1000\n",
            "125/125 - 0s - loss: 0.1483 - val_loss: 0.1489\n",
            "Epoch 122/1000\n",
            "125/125 - 0s - loss: 0.1478 - val_loss: 0.1482\n",
            "Epoch 123/1000\n",
            "125/125 - 0s - loss: 0.1478 - val_loss: 0.1481\n",
            "Epoch 124/1000\n",
            "125/125 - 0s - loss: 0.1471 - val_loss: 0.1477\n",
            "Epoch 125/1000\n",
            "125/125 - 0s - loss: 0.1475 - val_loss: 0.1473\n",
            "Epoch 126/1000\n",
            "125/125 - 0s - loss: 0.1464 - val_loss: 0.1475\n",
            "Epoch 127/1000\n",
            "125/125 - 0s - loss: 0.1461 - val_loss: 0.1466\n",
            "Epoch 128/1000\n",
            "125/125 - 0s - loss: 0.1478 - val_loss: 0.1473\n",
            "Epoch 129/1000\n",
            "125/125 - 0s - loss: 0.1456 - val_loss: 0.1460\n",
            "Epoch 130/1000\n",
            "125/125 - 0s - loss: 0.1451 - val_loss: 0.1458\n",
            "Epoch 131/1000\n",
            "125/125 - 0s - loss: 0.1449 - val_loss: 0.1456\n",
            "Epoch 132/1000\n",
            "125/125 - 0s - loss: 0.1460 - val_loss: 0.1467\n",
            "Epoch 133/1000\n",
            "125/125 - 0s - loss: 0.1444 - val_loss: 0.1450\n",
            "Epoch 134/1000\n",
            "125/125 - 0s - loss: 0.1439 - val_loss: 0.1448\n",
            "Epoch 135/1000\n",
            "125/125 - 0s - loss: 0.1436 - val_loss: 0.1445\n",
            "Epoch 136/1000\n",
            "125/125 - 0s - loss: 0.1435 - val_loss: 0.1442\n",
            "Epoch 137/1000\n",
            "125/125 - 0s - loss: 0.1431 - val_loss: 0.1438\n",
            "Epoch 138/1000\n",
            "125/125 - 0s - loss: 0.1448 - val_loss: 0.1435\n",
            "Epoch 139/1000\n",
            "125/125 - 0s - loss: 0.1425 - val_loss: 0.1436\n",
            "Epoch 140/1000\n",
            "125/125 - 0s - loss: 0.1422 - val_loss: 0.1432\n",
            "Epoch 141/1000\n",
            "125/125 - 0s - loss: 0.1436 - val_loss: 0.1431\n",
            "Epoch 142/1000\n",
            "125/125 - 0s - loss: 0.1416 - val_loss: 0.1423\n",
            "Epoch 143/1000\n",
            "125/125 - 0s - loss: 0.1421 - val_loss: 0.1487\n",
            "Epoch 144/1000\n",
            "125/125 - 0s - loss: 0.1412 - val_loss: 0.1420\n",
            "Epoch 145/1000\n",
            "125/125 - 0s - loss: 0.1409 - val_loss: 0.1426\n",
            "Epoch 146/1000\n",
            "125/125 - 0s - loss: 0.1410 - val_loss: 0.1413\n",
            "Epoch 147/1000\n",
            "125/125 - 0s - loss: 0.1400 - val_loss: 0.1407\n",
            "Epoch 148/1000\n",
            "125/125 - 1s - loss: 0.1398 - val_loss: 0.1405\n",
            "Epoch 149/1000\n",
            "125/125 - 0s - loss: 0.1393 - val_loss: 0.1408\n",
            "Epoch 150/1000\n",
            "125/125 - 0s - loss: 0.1401 - val_loss: 0.1399\n",
            "Epoch 151/1000\n",
            "125/125 - 0s - loss: 0.1387 - val_loss: 0.1394\n",
            "Epoch 152/1000\n",
            "125/125 - 0s - loss: 0.1381 - val_loss: 0.1389\n",
            "Epoch 153/1000\n",
            "125/125 - 1s - loss: 0.1378 - val_loss: 0.1388\n",
            "Epoch 154/1000\n",
            "125/125 - 1s - loss: 0.1376 - val_loss: 0.1408\n",
            "Epoch 155/1000\n",
            "125/125 - 0s - loss: 0.1373 - val_loss: 0.1412\n",
            "Epoch 156/1000\n",
            "125/125 - 1s - loss: 0.1370 - val_loss: 0.1379\n",
            "Epoch 157/1000\n",
            "125/125 - 1s - loss: 0.1363 - val_loss: 0.1376\n",
            "Epoch 158/1000\n",
            "125/125 - 1s - loss: 0.1394 - val_loss: 0.1383\n",
            "Epoch 159/1000\n",
            "125/125 - 0s - loss: 0.1364 - val_loss: 0.1364\n",
            "Epoch 160/1000\n",
            "125/125 - 1s - loss: 0.1350 - val_loss: 0.1360\n",
            "Epoch 161/1000\n",
            "125/125 - 0s - loss: 0.1347 - val_loss: 0.1356\n",
            "Epoch 162/1000\n",
            "125/125 - 0s - loss: 0.1345 - val_loss: 0.1352\n",
            "Epoch 163/1000\n",
            "125/125 - 0s - loss: 0.1341 - val_loss: 0.1355\n",
            "Epoch 164/1000\n",
            "125/125 - 0s - loss: 0.1337 - val_loss: 0.1361\n",
            "Epoch 165/1000\n",
            "125/125 - 0s - loss: 0.1338 - val_loss: 0.1342\n",
            "Epoch 166/1000\n",
            "125/125 - 0s - loss: 0.1329 - val_loss: 0.1338\n",
            "Epoch 167/1000\n",
            "125/125 - 0s - loss: 0.1329 - val_loss: 0.1336\n",
            "Epoch 168/1000\n",
            "125/125 - 1s - loss: 0.1322 - val_loss: 0.1329\n",
            "Epoch 169/1000\n",
            "125/125 - 1s - loss: 0.1320 - val_loss: 0.1330\n",
            "Epoch 170/1000\n",
            "125/125 - 1s - loss: 0.1315 - val_loss: 0.1324\n",
            "Epoch 171/1000\n",
            "125/125 - 0s - loss: 0.1313 - val_loss: 0.1322\n",
            "Epoch 172/1000\n",
            "125/125 - 0s - loss: 0.1313 - val_loss: 0.1317\n",
            "Epoch 173/1000\n",
            "125/125 - 0s - loss: 0.1307 - val_loss: 0.1315\n",
            "Epoch 174/1000\n",
            "125/125 - 0s - loss: 0.1305 - val_loss: 0.1397\n",
            "Epoch 175/1000\n",
            "125/125 - 0s - loss: 0.1306 - val_loss: 0.1308\n",
            "Epoch 176/1000\n",
            "125/125 - 1s - loss: 0.1296 - val_loss: 0.1308\n",
            "Epoch 177/1000\n",
            "125/125 - 0s - loss: 0.1297 - val_loss: 0.1307\n",
            "Epoch 178/1000\n",
            "125/125 - 0s - loss: 0.1292 - val_loss: 0.1303\n",
            "Epoch 179/1000\n",
            "125/125 - 0s - loss: 0.1304 - val_loss: 0.1324\n",
            "Epoch 180/1000\n",
            "125/125 - 0s - loss: 0.1289 - val_loss: 0.1298\n",
            "Epoch 181/1000\n",
            "125/125 - 0s - loss: 0.1285 - val_loss: 0.1294\n",
            "Epoch 182/1000\n",
            "125/125 - 0s - loss: 0.1285 - val_loss: 0.1294\n",
            "Epoch 183/1000\n",
            "125/125 - 0s - loss: 0.1282 - val_loss: 0.1293\n",
            "Epoch 184/1000\n",
            "125/125 - 0s - loss: 0.1284 - val_loss: 0.1289\n",
            "Epoch 185/1000\n",
            "125/125 - 0s - loss: 0.1278 - val_loss: 0.1287\n",
            "Epoch 186/1000\n",
            "125/125 - 0s - loss: 0.1277 - val_loss: 0.1286\n",
            "Epoch 187/1000\n",
            "125/125 - 0s - loss: 0.1276 - val_loss: 0.1292\n",
            "Epoch 188/1000\n",
            "125/125 - 1s - loss: 0.1277 - val_loss: 0.1282\n",
            "Epoch 189/1000\n",
            "125/125 - 0s - loss: 0.1272 - val_loss: 0.1282\n",
            "Epoch 190/1000\n",
            "125/125 - 0s - loss: 0.1273 - val_loss: 0.1283\n",
            "Epoch 191/1000\n",
            "125/125 - 1s - loss: 0.1270 - val_loss: 0.1280\n",
            "Epoch 192/1000\n",
            "125/125 - 0s - loss: 0.1299 - val_loss: 0.1311\n",
            "Epoch 193/1000\n",
            "125/125 - 0s - loss: 0.1279 - val_loss: 0.1280\n",
            "Epoch 194/1000\n",
            "125/125 - 0s - loss: 0.1268 - val_loss: 0.1277\n",
            "Epoch 195/1000\n",
            "125/125 - 0s - loss: 0.1268 - val_loss: 0.1279\n",
            "Epoch 196/1000\n",
            "125/125 - 0s - loss: 0.1267 - val_loss: 0.1276\n",
            "Epoch 197/1000\n",
            "125/125 - 0s - loss: 0.1265 - val_loss: 0.1275\n",
            "Epoch 198/1000\n",
            "125/125 - 0s - loss: 0.1265 - val_loss: 0.1275\n",
            "Epoch 199/1000\n",
            "125/125 - 0s - loss: 0.1264 - val_loss: 0.1274\n",
            "Epoch 200/1000\n",
            "125/125 - 0s - loss: 0.1271 - val_loss: 0.1278\n",
            "Epoch 201/1000\n",
            "125/125 - 0s - loss: 0.1263 - val_loss: 0.1272\n",
            "Epoch 202/1000\n",
            "125/125 - 0s - loss: 0.1265 - val_loss: 0.1272\n",
            "Epoch 203/1000\n",
            "125/125 - 0s - loss: 0.1263 - val_loss: 0.1272\n",
            "Epoch 204/1000\n",
            "125/125 - 0s - loss: 0.1262 - val_loss: 0.1270\n",
            "Epoch 205/1000\n",
            "125/125 - 0s - loss: 0.1261 - val_loss: 0.1272\n",
            "Epoch 206/1000\n",
            "125/125 - 0s - loss: 0.1262 - val_loss: 0.1286\n",
            "Epoch 207/1000\n",
            "125/125 - 0s - loss: 0.1371 - val_loss: 0.1273\n",
            "Epoch 208/1000\n",
            "125/125 - 0s - loss: 0.1261 - val_loss: 0.1270\n",
            "Epoch 209/1000\n",
            "125/125 - 0s - loss: 0.1260 - val_loss: 0.1270\n",
            "Epoch 210/1000\n",
            "125/125 - 0s - loss: 0.1260 - val_loss: 0.1269\n",
            "Epoch 211/1000\n",
            "125/125 - 0s - loss: 0.1260 - val_loss: 0.1269\n",
            "Epoch 212/1000\n",
            "125/125 - 0s - loss: 0.1258 - val_loss: 0.1270\n",
            "Epoch 213/1000\n",
            "125/125 - 0s - loss: 0.1258 - val_loss: 0.1271\n",
            "Epoch 214/1000\n",
            "125/125 - 0s - loss: 0.1259 - val_loss: 0.1267\n",
            "Epoch 215/1000\n",
            "125/125 - 0s - loss: 0.1258 - val_loss: 0.1268\n",
            "Epoch 216/1000\n",
            "125/125 - 0s - loss: 0.1258 - val_loss: 0.1270\n",
            "Epoch 217/1000\n",
            "125/125 - 0s - loss: 0.1268 - val_loss: 0.1272\n",
            "Epoch 218/1000\n",
            "125/125 - 0s - loss: 0.1259 - val_loss: 0.1267\n",
            "Epoch 219/1000\n",
            "125/125 - 0s - loss: 0.1257 - val_loss: 0.1267\n",
            "Epoch 220/1000\n",
            "125/125 - 0s - loss: 0.1258 - val_loss: 0.1270\n",
            "Epoch 221/1000\n",
            "125/125 - 0s - loss: 0.1256 - val_loss: 0.1266\n",
            "Epoch 222/1000\n",
            "125/125 - 1s - loss: 0.1257 - val_loss: 0.1267\n",
            "Epoch 223/1000\n",
            "125/125 - 0s - loss: 0.1257 - val_loss: 0.1269\n",
            "Epoch 224/1000\n",
            "125/125 - 0s - loss: 0.1256 - val_loss: 0.1268\n",
            "Epoch 225/1000\n",
            "125/125 - 0s - loss: 0.1256 - val_loss: 0.1265\n",
            "Epoch 226/1000\n",
            "125/125 - 0s - loss: 0.1257 - val_loss: 0.1271\n",
            "Epoch 227/1000\n",
            "125/125 - 0s - loss: 0.1256 - val_loss: 0.1291\n",
            "Epoch 228/1000\n",
            "125/125 - 0s - loss: 0.1258 - val_loss: 0.1266\n",
            "Epoch 229/1000\n",
            "125/125 - 0s - loss: 0.1256 - val_loss: 0.1267\n",
            "Epoch 230/1000\n",
            "125/125 - 0s - loss: 0.1257 - val_loss: 0.1266\n",
            "Epoch 231/1000\n",
            "125/125 - 0s - loss: 0.1256 - val_loss: 0.1272\n",
            "Epoch 232/1000\n",
            "125/125 - 0s - loss: 0.1255 - val_loss: 0.1267\n",
            "Epoch 233/1000\n",
            "125/125 - 0s - loss: 0.1276 - val_loss: 0.1313\n",
            "Epoch 234/1000\n",
            "125/125 - 0s - loss: 0.1256 - val_loss: 0.1266\n",
            "Epoch 235/1000\n",
            "125/125 - 0s - loss: 0.1255 - val_loss: 0.1268\n"
          ],
          "name": "stdout"
        }
      ]
    },
    {
      "cell_type": "markdown",
      "metadata": {
        "id": "x85n3tbEHIJx"
      },
      "source": [
        "\n",
        "# `グラフ表示`"
      ]
    },
    {
      "cell_type": "code",
      "metadata": {
        "id": "CyhXc8FJueE0",
        "colab": {
          "base_uri": "https://localhost:8080/",
          "height": 279
        },
        "outputId": "9b57f005-5470-4d4c-d82f-cc0fe39f1374"
      },
      "source": [
        "# plt.plot(history.history['acc'])\n",
        "# plt.plot(history.history['val_acc'])\n",
        "# plt.title('Model accuracy')\n",
        "# plt.ylabel('Accuracy')\n",
        "plt.plot(history.history['loss'])\n",
        "plt.plot(history.history['val_loss'])\n",
        "plt.xlabel('Epoch')\n",
        "plt.grid()\n",
        "plt.legend(['Train', 'Validation'], loc='upper left')\n",
        "plt.show()"
      ],
      "execution_count": null,
      "outputs": [
        {
          "output_type": "display_data",
          "data": {
            "image/png": "[encoded data removed]",
            "text/plain": [
              "<Figure size 432x288 with 1 Axes>"
            ]
          },
          "metadata": {
            "tags": [],
            "needs_background": "light"
          }
        }
      ]
    },
    {
      "cell_type": "markdown",
      "metadata": {
        "id": "vms7jxcU8xJQ"
      },
      "source": [
        "# 推論"
      ]
    },
    {
      "cell_type": "code",
      "metadata": {
        "id": "vQZLksvW8zbH"
      },
      "source": [
        "test_X, test_Y = create_datas(100)\n",
        "\n",
        "predict = model.predict(test_X)"
      ],
      "execution_count": null,
      "outputs": []
    },
    {
      "cell_type": "code",
      "metadata": {
        "colab": {
          "base_uri": "https://localhost:8080/"
        },
        "id": "hUDmszIa-aXN",
        "outputId": "a0a59a44-aeb5-4528-b00c-7d032349799b"
      },
      "source": [
        "predict = np.reshape(predict,(100,8))\n",
        "test_Y = np.reshape(test_Y,(100,8))\n",
        "\n",
        "print(\"predct.shape=\",predict.shape)\n",
        "print(\"test_Y.shape=\",test_Y.shape)\n",
        "\n",
        "\n",
        "MAE = np.sum(np.abs(predict-test_Y))\n",
        "\n",
        "print(MAE)"
      ],
      "execution_count": null,
      "outputs": [
        {
          "output_type": "stream",
          "text": [
            "predct.shape= (100, 8)\n",
            "test_Y.shape= (100, 8)\n",
            "209.1205121385989\n"
          ],
          "name": "stdout"
        }
      ]
    },
    {
      "cell_type": "markdown",
      "metadata": {
        "id": "v8AH400idpTk"
      },
      "source": [
        "# 終わり"
      ]
    },
    {
      "cell_type": "code",
      "metadata": {
        "id": "bdBIu4za5umf",
        "colab": {
          "base_uri": "https://localhost:8080/"
        },
        "outputId": "da578638-e476-46c8-cb30-6077d9952ead"
      },
      "source": [
        "#終了時刻\n",
        "finish_time = datetime.datetime.now(datetime.timezone(datetime.timedelta(hours=9)))\n",
        "print(\"finish_time=\",finish_time)\n",
        "print(\"total_time=\",finish_time-start_time)\n"
      ],
      "execution_count": null,
      "outputs": [
        {
          "output_type": "stream",
          "text": [
            "finish_time= 2021-05-07 07:22:25.152482+09:00\n",
            "total_time= 0:02:03.015674\n"
          ],
          "name": "stdout"
        }
      ]
    }
  ]
}